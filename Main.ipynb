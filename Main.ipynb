{
  "nbformat": 4,
  "nbformat_minor": 0,
  "metadata": {
    "colab": {
      "name": "Untitled0.ipynb",
      "provenance": [],
      "collapsed_sections": [],
      "include_colab_link": true
    },
    "kernelspec": {
      "name": "python3",
      "display_name": "Python 3"
    },
    "language_info": {
      "name": "python"
    }
  },
  "cells": [
    {
      "cell_type": "markdown",
      "metadata": {
        "id": "view-in-github",
        "colab_type": "text"
      },
      "source": [
        "<a href=\"https://colab.research.google.com/github/IImbryk/NMA_MindBigData/blob/work/Main.ipynb\" target=\"_parent\"><img src=\"https://colab.research.google.com/assets/colab-badge.svg\" alt=\"Open In Colab\"/></a>"
      ]
    },
    {
      "cell_type": "code",
      "metadata": {
        "id": "ovtlpy2Efyby"
      },
      "source": [
        "import pandas as pd\n",
        "import numpy as np\n",
        "import matplotlib.pyplot as plt\n",
        "\n",
        "\n",
        "from google.colab import drive"
      ],
      "execution_count": 1,
      "outputs": []
    },
    {
      "cell_type": "code",
      "metadata": {
        "id": "83-5ewTxkNd3",
        "colab": {
          "base_uri": "https://localhost:8080/"
        },
        "outputId": "332e9565-f811-4adb-e19d-2c4b448ec0da"
      },
      "source": [
        "drive.mount('/content/drive', force_remount=True)\n",
        "path_dir = '/content/drive/MyDrive/Data Brain MNIST' "
      ],
      "execution_count": 2,
      "outputs": [
        {
          "output_type": "stream",
          "text": [
            "Mounted at /content/drive\n"
          ],
          "name": "stdout"
        }
      ]
    },
    {
      "cell_type": "markdown",
      "metadata": {
        "id": "HetE8fmjff1U"
      },
      "source": [
        "## 1. Load data"
      ]
    },
    {
      "cell_type": "markdown",
      "metadata": {
        "id": "PCHlVFpyfYCJ"
      },
      "source": [
        "[id]: a numeric, only for reference purposes.\n",
        "\n",
        "[event] id, a integer, used to distinguish the same event captured at different brain locations, used only by multichannel devices (all except MW).\n",
        "\n",
        "[device]: a 2 character string, to identify the device used to capture the signals, \"MW\" for MindWave, \"EP\" for Emotive Epoc, \"MU\" for Interaxon Muse & \"IN\" for Emotiv Insight.\n",
        "\n",
        "[channel]: a string, to indentify the 10/20 brain location of the signal, with possible values:\n",
        " \n",
        "MindWave\t\"FP1\"\n",
        "EPOC\t\"AF3, \"F7\", \"F3\", \"FC5\", \"T7\", \"P7\", \"O1\", \"O2\", \"P8\", \"T8\", \"FC6\", \"F4\", \"F8\", \"AF4\"\n",
        "Muse\t\"TP9,\"FP1\",\"FP2\", \"TP10\"\n",
        "Insight\t\"AF3,\"AF4\",\"T7\",\"T8\",\"PZ\" \n",
        "\n",
        "[code]: a integer, to indentify the digit been thought/seen, with possible values 0,1,2,3,4,5,6,7,8,9 or -1 for random captured signals not related to any of the digits.\n",
        "\n",
        "[size]: a integer, to identify the size in number of values captured in the 2 seconds of this signal, since the Hz of each device varies, in \"theory\" the value is close to 512Hz for MW, 128Hz for EP, 220Hz for MU & 128Hz for IN, for each of the 2 seconds.\n",
        "\n",
        "[data]: a coma separated set of numbers, with the time-series amplitude of the signal, each device uses a different precision to identify the electrical potential captured from the brain: integers in the case of MW & MU or real numbers in the case of EP & IN.\n"
      ]
    },
    {
      "cell_type": "code",
      "metadata": {
        "id": "lAp_EoE6wK8x"
      },
      "source": [
        "file_name =  ['/MindBigData-EP-v1.0/EP1.01.txt',\n",
        "              '/MindBigData-IN-v1.06/IN.txt',\n",
        "              '/MindBigData-MU-v1.0/MU.txt',\n",
        "              '/MindBigData-MW-v1.0/MW.txt']"
      ],
      "execution_count": 4,
      "outputs": []
    },
    {
      "cell_type": "code",
      "metadata": {
        "id": "EbPSq-let8O4"
      },
      "source": [
        "#load data\n",
        "data_2 = pd.read_csv(path_dir+file_name[2], sep=\"\\t\", header=None, nrows=99)\n",
        "data = data_2.copy(deep=True)"
      ],
      "execution_count": 138,
      "outputs": []
    },
    {
      "cell_type": "code",
      "metadata": {
        "id": "3Jyst-7SyJHU"
      },
      "source": [
        "def found_min_count_eeg(data, sep_symb=',', num_column = 6):\n",
        "  \"\"\"\n",
        "  to find the minimum number of values EEG\n",
        "  \"\"\"\n",
        "  min_count = 1000\n",
        "  for row in data[num_column]:\n",
        "    cur_count = row.count(',')\n",
        "    min_count = cur_count if cur_count < min_count else min_count\n",
        "  return min_count"
      ],
      "execution_count": 139,
      "outputs": []
    },
    {
      "cell_type": "code",
      "metadata": {
        "id": "HAfah9Z90bZx"
      },
      "source": [
        "def found_max_count_eeg(data, sep_symb=',', num_column = 6):\n",
        "  \"\"\"\n",
        "  to find the max number of values EEG\n",
        "  \"\"\"\n",
        "  max_count = 0\n",
        "  for row in data[num_column]:\n",
        "    cur_count = row.count(',')\n",
        "    max_count = cur_count if cur_count > max_count else max_count\n",
        "  return max_count"
      ],
      "execution_count": 140,
      "outputs": []
    },
    {
      "cell_type": "code",
      "metadata": {
        "id": "U67zPs3i6qjk",
        "colab": {
          "base_uri": "https://localhost:8080/"
        },
        "outputId": "8037601a-d513-4d03-b0a0-10826243a60b"
      },
      "source": [
        "min_len = found_min_count_eeg(data)\n",
        "max_len = found_max_count_eeg(data)\n",
        "print(max_len, min_len)\n",
        "columns_name = ['eeg'+str(x) for x in range(max_len)]"
      ],
      "execution_count": 141,
      "outputs": [
        {
          "output_type": "stream",
          "text": [
            "492 441\n"
          ],
          "name": "stdout"
        }
      ]
    },
    {
      "cell_type": "code",
      "metadata": {
        "id": "a9VCSRSO78OH"
      },
      "source": [
        "# mat = np.matrix(data[6][0].split(\",\")[0:max_len])\n",
        "# for i in range(1, len(data)):\n",
        "  # mat = np.append(mat,np.matrix(data[6][i].split(\",\")[0:max_len]), axis=0)\n",
        "# df_new = pd.concat([data, pd.DataFrame(mat, columns=columns_name)], axis=1)"
      ],
      "execution_count": 142,
      "outputs": []
    },
    {
      "cell_type": "code",
      "metadata": {
        "id": "lgqQV33I_qME"
      },
      "source": [
        "# переименовать столбцы в соотв. с http://www.mindbigdata.com/opendb/\n",
        "data = data.rename(columns={0: 'id', 1: 'event',\n",
        "                        2: 'device', 3:'channel',\n",
        "                        4: 'code', 5: 'size', 6:'data'})"
      ],
      "execution_count": 143,
      "outputs": []
    },
    {
      "cell_type": "code",
      "metadata": {
        "id": "wScpuXsEAO-W"
      },
      "source": [
        "###Polina \n",
        "# list_of_names = ['id', 'event', 'device','channel', 'code', 'size', 'data']\n",
        "# df= pd.read_csv('gdrive/My Drive/Data Brain MNIST/MindBigData-MW-v1.0/MW.txt', delimiter = \"\\t\", names = list_of_names)\n",
        "# for i in range(len(df['data'])):\n",
        "  # df['data'][i] = df['data'][i].split(',') ###uncomment for the first time only \n",
        "  # for j in range(len(df['data'][i])):\n",
        "    # df['data'][i][j] = int(df['data'][i][j])"
      ],
      "execution_count": null,
      "outputs": []
    },
    {
      "cell_type": "code",
      "metadata": {
        "colab": {
          "base_uri": "https://localhost:8080/"
        },
        "id": "6YE8pkM7U_GX",
        "outputId": "73d4fafe-c8eb-455b-842f-729a3a6c0d8b"
      },
      "source": [
        "for i in range(0, len(data)):\n",
        "  eeg = list(map(int, data['data'][i].split(',')))\n",
        "  zero_add = [0] * (max_len - len(eeg))\n",
        "  data['data'][i] = eeg + zero_add"
      ],
      "execution_count": 145,
      "outputs": [
        {
          "output_type": "stream",
          "text": [
            "/usr/local/lib/python3.7/dist-packages/ipykernel_launcher.py:4: SettingWithCopyWarning: \n",
            "A value is trying to be set on a copy of a slice from a DataFrame\n",
            "\n",
            "See the caveats in the documentation: https://pandas.pydata.org/pandas-docs/stable/user_guide/indexing.html#returning-a-view-versus-a-copy\n",
            "  after removing the cwd from sys.path.\n"
          ],
          "name": "stderr"
        }
      ]
    },
    {
      "cell_type": "code",
      "metadata": {
        "id": "AXzRNsasipk_",
        "outputId": "104fe289-3b63-4b75-e4fe-9452310bdda0",
        "colab": {
          "base_uri": "https://localhost:8080/",
          "height": 265
        }
      },
      "source": [
        "# фильтрация - пока не нужна!\n",
        "from scipy.interpolate import Rbf\n",
        "\n",
        "y = data['data'][1]\n",
        "\n",
        "rbf = Rbf(range(0,max_len), y, function = 'quintic', smooth = 10)\n",
        "\n",
        "xnew = np.linspace(0, max_len, num = 100, endpoint = True)\n",
        "ynew = rbf(xnew)\n",
        "\n",
        "plt.figure()\n",
        "plt.plot(y)\n",
        "plt.plot(xnew, ynew, 'r')\n",
        "plt.show()"
      ],
      "execution_count": 151,
      "outputs": [
        {
          "output_type": "display_data",
          "data": {
            "image/png": "[encoded data removed]",
            "text/plain": [
              "<Figure size 432x288 with 1 Axes>"
            ]
          },
          "metadata": {
            "tags": [],
            "needs_background": "light"
          }
        }
      ]
    },
    {
      "cell_type": "code",
      "metadata": {
        "id": "jrq048SrjF99"
      },
      "source": [
        ""
      ],
      "execution_count": null,
      "outputs": []
    }
  ]
}