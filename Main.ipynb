{
  "nbformat": 4,
  "nbformat_minor": 0,
  "metadata": {
    "colab": {
      "name": "Untitled0.ipynb",
      "provenance": [],
      "collapsed_sections": [],
      "include_colab_link": true
    },
    "kernelspec": {
      "name": "python3",
      "display_name": "Python 3"
    },
    "language_info": {
      "name": "python"
    }
  },
  "cells": [
    {
      "cell_type": "markdown",
      "metadata": {
        "id": "view-in-github",
        "colab_type": "text"
      },
      "source": [
        "<a href=\"https://colab.research.google.com/github/IImbryk/NMA_MindBigData/blob/work/Main.ipynb\" target=\"_parent\"><img src=\"https://colab.research.google.com/assets/colab-badge.svg\" alt=\"Open In Colab\"/></a>"
      ]
    },
    {
      "cell_type": "code",
      "metadata": {
        "id": "ovtlpy2Efyby"
      },
      "source": [
        "import pandas as pd\n",
        "from google.colab import drive"
      ],
      "execution_count": 1,
      "outputs": []
    },
    {
      "cell_type": "code",
      "metadata": {
        "id": "83-5ewTxkNd3",
        "outputId": "05cd1dc6-286b-4438-c778-c8a28fc7499d",
        "colab": {
          "base_uri": "https://localhost:8080/"
        }
      },
      "source": [
        "drive.mount('/content/drive', force_remount=True)"
      ],
      "execution_count": 2,
      "outputs": [
        {
          "output_type": "stream",
          "text": [
            "Mounted at /content/drive\n"
          ],
          "name": "stdout"
        }
      ]
    },
    {
      "cell_type": "code",
      "metadata": {
        "id": "18CkzyhjuJEj"
      },
      "source": [
        "path_dir = '/content/drive/MyDrive/Data Brain MNIST'"
      ],
      "execution_count": 3,
      "outputs": []
    },
    {
      "cell_type": "code",
      "metadata": {
        "id": "lAp_EoE6wK8x"
      },
      "source": [
        "file_name =  ['/MindBigData-EP-v1.0/EP1.01.txt',\n",
        "              '/MindBigData-IN-v1.06/IN.txt',\n",
        "              '/MindBigData-MU-v1.0/MU.txt',\n",
        "              '/MindBigData-MW-v1.0/MW.txt']"
      ],
      "execution_count": 4,
      "outputs": []
    },
    {
      "cell_type": "code",
      "metadata": {
        "id": "EbPSq-let8O4",
        "outputId": "f68fb427-70a3-4ff3-ac5f-65e309908893",
        "colab": {
          "base_uri": "https://localhost:8080/",
          "height": 408
        }
      },
      "source": [
        "pd.read_csv(path_dir+file_name[2], sep=\"\\t\", header=None, nrows=99 )"
      ],
      "execution_count": 16,
      "outputs": [
        {
          "output_type": "execute_result",
          "data": {
            "text/html": [
              "<div>\n",
              "<style scoped>\n",
              "    .dataframe tbody tr th:only-of-type {\n",
              "        vertical-align: middle;\n",
              "    }\n",
              "\n",
              "    .dataframe tbody tr th {\n",
              "        vertical-align: top;\n",
              "    }\n",
              "\n",
              "    .dataframe thead th {\n",
              "        text-align: right;\n",
              "    }\n",
              "</style>\n",
              "<table border=\"1\" class=\"dataframe\">\n",
              "  <thead>\n",
              "    <tr style=\"text-align: right;\">\n",
              "      <th></th>\n",
              "      <th>0</th>\n",
              "      <th>1</th>\n",
              "      <th>2</th>\n",
              "      <th>3</th>\n",
              "      <th>4</th>\n",
              "      <th>5</th>\n",
              "      <th>6</th>\n",
              "    </tr>\n",
              "  </thead>\n",
              "  <tbody>\n",
              "    <tr>\n",
              "      <th>0</th>\n",
              "      <td>978111</td>\n",
              "      <td>132669</td>\n",
              "      <td>MU</td>\n",
              "      <td>TP9</td>\n",
              "      <td>6</td>\n",
              "      <td>459</td>\n",
              "      <td>475,474,477,486,486,476,479,483,489,483,482,48...</td>\n",
              "    </tr>\n",
              "    <tr>\n",
              "      <th>1</th>\n",
              "      <td>978112</td>\n",
              "      <td>132669</td>\n",
              "      <td>MU</td>\n",
              "      <td>FP1</td>\n",
              "      <td>6</td>\n",
              "      <td>459</td>\n",
              "      <td>468,487,493,493,498,493,491,490,492,487,483,48...</td>\n",
              "    </tr>\n",
              "    <tr>\n",
              "      <th>2</th>\n",
              "      <td>978113</td>\n",
              "      <td>132669</td>\n",
              "      <td>MU</td>\n",
              "      <td>FP2</td>\n",
              "      <td>6</td>\n",
              "      <td>459</td>\n",
              "      <td>482,475,490,500,485,470,470,482,490,484,478,48...</td>\n",
              "    </tr>\n",
              "    <tr>\n",
              "      <th>3</th>\n",
              "      <td>978114</td>\n",
              "      <td>132669</td>\n",
              "      <td>MU</td>\n",
              "      <td>TP10</td>\n",
              "      <td>6</td>\n",
              "      <td>459</td>\n",
              "      <td>470,470,478,489,487,475,469,478,488,483,474,48...</td>\n",
              "    </tr>\n",
              "    <tr>\n",
              "      <th>4</th>\n",
              "      <td>978115</td>\n",
              "      <td>132670</td>\n",
              "      <td>MU</td>\n",
              "      <td>TP9</td>\n",
              "      <td>7</td>\n",
              "      <td>493</td>\n",
              "      <td>506,499,495,491,492,507,496,500,498,496,499,50...</td>\n",
              "    </tr>\n",
              "    <tr>\n",
              "      <th>...</th>\n",
              "      <td>...</td>\n",
              "      <td>...</td>\n",
              "      <td>...</td>\n",
              "      <td>...</td>\n",
              "      <td>...</td>\n",
              "      <td>...</td>\n",
              "      <td>...</td>\n",
              "    </tr>\n",
              "    <tr>\n",
              "      <th>94</th>\n",
              "      <td>978205</td>\n",
              "      <td>132692</td>\n",
              "      <td>MU</td>\n",
              "      <td>FP2</td>\n",
              "      <td>8</td>\n",
              "      <td>476</td>\n",
              "      <td>553,495,496,506,503,500,510,505,494,491,485,48...</td>\n",
              "    </tr>\n",
              "    <tr>\n",
              "      <th>95</th>\n",
              "      <td>978206</td>\n",
              "      <td>132692</td>\n",
              "      <td>MU</td>\n",
              "      <td>TP10</td>\n",
              "      <td>8</td>\n",
              "      <td>476</td>\n",
              "      <td>505,480,479,485,487,478,478,485,487,486,482,48...</td>\n",
              "    </tr>\n",
              "    <tr>\n",
              "      <th>96</th>\n",
              "      <td>978207</td>\n",
              "      <td>132693</td>\n",
              "      <td>MU</td>\n",
              "      <td>TP9</td>\n",
              "      <td>1</td>\n",
              "      <td>476</td>\n",
              "      <td>501,513,509,500,504,495,499,499,493,497,503,50...</td>\n",
              "    </tr>\n",
              "    <tr>\n",
              "      <th>97</th>\n",
              "      <td>978208</td>\n",
              "      <td>132693</td>\n",
              "      <td>MU</td>\n",
              "      <td>FP1</td>\n",
              "      <td>1</td>\n",
              "      <td>476</td>\n",
              "      <td>507,519,519,514,513,513,512,514,510,506,513,51...</td>\n",
              "    </tr>\n",
              "    <tr>\n",
              "      <th>98</th>\n",
              "      <td>978209</td>\n",
              "      <td>132693</td>\n",
              "      <td>MU</td>\n",
              "      <td>FP2</td>\n",
              "      <td>1</td>\n",
              "      <td>476</td>\n",
              "      <td>515,498,493,496,495,495,499,493,497,491,494,49...</td>\n",
              "    </tr>\n",
              "  </tbody>\n",
              "</table>\n",
              "<p>99 rows × 7 columns</p>\n",
              "</div>"
            ],
            "text/plain": [
              "         0       1  ...    5                                                  6\n",
              "0   978111  132669  ...  459  475,474,477,486,486,476,479,483,489,483,482,48...\n",
              "1   978112  132669  ...  459  468,487,493,493,498,493,491,490,492,487,483,48...\n",
              "2   978113  132669  ...  459  482,475,490,500,485,470,470,482,490,484,478,48...\n",
              "3   978114  132669  ...  459  470,470,478,489,487,475,469,478,488,483,474,48...\n",
              "4   978115  132670  ...  493  506,499,495,491,492,507,496,500,498,496,499,50...\n",
              "..     ...     ...  ...  ...                                                ...\n",
              "94  978205  132692  ...  476  553,495,496,506,503,500,510,505,494,491,485,48...\n",
              "95  978206  132692  ...  476  505,480,479,485,487,478,478,485,487,486,482,48...\n",
              "96  978207  132693  ...  476  501,513,509,500,504,495,499,499,493,497,503,50...\n",
              "97  978208  132693  ...  476  507,519,519,514,513,513,512,514,510,506,513,51...\n",
              "98  978209  132693  ...  476  515,498,493,496,495,495,499,493,497,491,494,49...\n",
              "\n",
              "[99 rows x 7 columns]"
            ]
          },
          "metadata": {
            "tags": []
          },
          "execution_count": 16
        }
      ]
    },
    {
      "cell_type": "code",
      "metadata": {
        "id": "IV2mcudCzRMG"
      },
      "source": [
        ""
      ],
      "execution_count": null,
      "outputs": []
    }
  ]
}