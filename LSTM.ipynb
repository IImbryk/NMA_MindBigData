{
  "nbformat": 4,
  "nbformat_minor": 0,
  "metadata": {
    "colab": {
      "name": "LSTM_try2",
      "provenance": [],
      "collapsed_sections": [],
      "authorship_tag": "ABX9TyN4WrM3l9x0dm+UbmP89W7I",
      "include_colab_link": true
    },
    "kernelspec": {
      "display_name": "Python 3",
      "name": "python3"
    },
    "language_info": {
      "name": "python"
    }
  },
  "cells": [
    {
      "cell_type": "markdown",
      "metadata": {
        "id": "view-in-github",
        "colab_type": "text"
      },
      "source": [
        "<a href=\"https://colab.research.google.com/github/IImbryk/NMA_MindBigData/blob/work/LSTM.ipynb\" target=\"_parent\"><img src=\"https://colab.research.google.com/assets/colab-badge.svg\" alt=\"Open In Colab\"/></a>"
      ]
    },
    {
      "cell_type": "code",
      "metadata": {
        "id": "ruNOhmAs2FoX"
      },
      "source": [
        "import pandas as pd\n",
        "import numpy as np\n",
        "import matplotlib.pyplot as plt\n",
        "\n",
        "\n",
        "from google.colab import drive"
      ],
      "execution_count": 4,
      "outputs": []
    },
    {
      "cell_type": "code",
      "metadata": {
        "colab": {
          "base_uri": "https://localhost:8080/"
        },
        "id": "YhjWE0H62HKA",
        "outputId": "56b3aea0-3314-4edc-bd51-083f43c01f69"
      },
      "source": [
        "drive.mount('/content/drive', force_remount=True)\n",
        "path_dir = '/content/drive/MyDrive/Data Brain MNIST'"
      ],
      "execution_count": 5,
      "outputs": [
        {
          "output_type": "stream",
          "text": [
            "Mounted at /content/drive\n"
          ],
          "name": "stdout"
        }
      ]
    },
    {
      "cell_type": "code",
      "metadata": {
        "id": "7q0IMR4u2LiL"
      },
      "source": [
        "file_name =  ['/MindBigData-EP-v1.0/EP1.01.txt',\n",
        "              '/MindBigData-IN-v1.06/IN.txt',\n",
        "              '/MindBigData-MU-v1.0/MU.txt',\n",
        "              '/MindBigData-MW-v1.0/MW.txt']"
      ],
      "execution_count": 6,
      "outputs": []
    },
    {
      "cell_type": "code",
      "metadata": {
        "id": "FKRQrEQd2RMj"
      },
      "source": [
        "#load data\n",
        "data_2 = pd.read_csv(path_dir+file_name[2], sep=\"\\t\", header=None, nrows=999)\n",
        "data = data_2.copy(deep=True)"
      ],
      "execution_count": 7,
      "outputs": []
    },
    {
      "cell_type": "code",
      "metadata": {
        "colab": {
          "base_uri": "https://localhost:8080/",
          "height": 423
        },
        "id": "rUcy4jCh2TAx",
        "outputId": "422ff2c1-6d8f-4e2e-8788-a662294e9487"
      },
      "source": [
        "data"
      ],
      "execution_count": 8,
      "outputs": [
        {
          "output_type": "execute_result",
          "data": {
            "text/html": [
              "<div>\n",
              "<style scoped>\n",
              "    .dataframe tbody tr th:only-of-type {\n",
              "        vertical-align: middle;\n",
              "    }\n",
              "\n",
              "    .dataframe tbody tr th {\n",
              "        vertical-align: top;\n",
              "    }\n",
              "\n",
              "    .dataframe thead th {\n",
              "        text-align: right;\n",
              "    }\n",
              "</style>\n",
              "<table border=\"1\" class=\"dataframe\">\n",
              "  <thead>\n",
              "    <tr style=\"text-align: right;\">\n",
              "      <th></th>\n",
              "      <th>0</th>\n",
              "      <th>1</th>\n",
              "      <th>2</th>\n",
              "      <th>3</th>\n",
              "      <th>4</th>\n",
              "      <th>5</th>\n",
              "      <th>6</th>\n",
              "    </tr>\n",
              "  </thead>\n",
              "  <tbody>\n",
              "    <tr>\n",
              "      <th>0</th>\n",
              "      <td>978111</td>\n",
              "      <td>132669</td>\n",
              "      <td>MU</td>\n",
              "      <td>TP9</td>\n",
              "      <td>6</td>\n",
              "      <td>459</td>\n",
              "      <td>475,474,477,486,486,476,479,483,489,483,482,48...</td>\n",
              "    </tr>\n",
              "    <tr>\n",
              "      <th>1</th>\n",
              "      <td>978112</td>\n",
              "      <td>132669</td>\n",
              "      <td>MU</td>\n",
              "      <td>FP1</td>\n",
              "      <td>6</td>\n",
              "      <td>459</td>\n",
              "      <td>468,487,493,493,498,493,491,490,492,487,483,48...</td>\n",
              "    </tr>\n",
              "    <tr>\n",
              "      <th>2</th>\n",
              "      <td>978113</td>\n",
              "      <td>132669</td>\n",
              "      <td>MU</td>\n",
              "      <td>FP2</td>\n",
              "      <td>6</td>\n",
              "      <td>459</td>\n",
              "      <td>482,475,490,500,485,470,470,482,490,484,478,48...</td>\n",
              "    </tr>\n",
              "    <tr>\n",
              "      <th>3</th>\n",
              "      <td>978114</td>\n",
              "      <td>132669</td>\n",
              "      <td>MU</td>\n",
              "      <td>TP10</td>\n",
              "      <td>6</td>\n",
              "      <td>459</td>\n",
              "      <td>470,470,478,489,487,475,469,478,488,483,474,48...</td>\n",
              "    </tr>\n",
              "    <tr>\n",
              "      <th>4</th>\n",
              "      <td>978115</td>\n",
              "      <td>132670</td>\n",
              "      <td>MU</td>\n",
              "      <td>TP9</td>\n",
              "      <td>7</td>\n",
              "      <td>493</td>\n",
              "      <td>506,499,495,491,492,507,496,500,498,496,499,50...</td>\n",
              "    </tr>\n",
              "    <tr>\n",
              "      <th>...</th>\n",
              "      <td>...</td>\n",
              "      <td>...</td>\n",
              "      <td>...</td>\n",
              "      <td>...</td>\n",
              "      <td>...</td>\n",
              "      <td>...</td>\n",
              "      <td>...</td>\n",
              "    </tr>\n",
              "    <tr>\n",
              "      <th>994</th>\n",
              "      <td>979105</td>\n",
              "      <td>132917</td>\n",
              "      <td>MU</td>\n",
              "      <td>FP2</td>\n",
              "      <td>9</td>\n",
              "      <td>493</td>\n",
              "      <td>499,491,489,492,493,491,490,484,491,496,494,49...</td>\n",
              "    </tr>\n",
              "    <tr>\n",
              "      <th>995</th>\n",
              "      <td>979106</td>\n",
              "      <td>132917</td>\n",
              "      <td>MU</td>\n",
              "      <td>TP10</td>\n",
              "      <td>9</td>\n",
              "      <td>493</td>\n",
              "      <td>514,509,493,495,511,512,492,498,511,518,506,49...</td>\n",
              "    </tr>\n",
              "    <tr>\n",
              "      <th>996</th>\n",
              "      <td>979107</td>\n",
              "      <td>132918</td>\n",
              "      <td>MU</td>\n",
              "      <td>TP9</td>\n",
              "      <td>6</td>\n",
              "      <td>459</td>\n",
              "      <td>528,521,527,534,531,517,523,532,522,538,521,52...</td>\n",
              "    </tr>\n",
              "    <tr>\n",
              "      <th>997</th>\n",
              "      <td>979108</td>\n",
              "      <td>132918</td>\n",
              "      <td>MU</td>\n",
              "      <td>FP1</td>\n",
              "      <td>6</td>\n",
              "      <td>459</td>\n",
              "      <td>516,529,531,525,524,520,521,533,524,523,529,52...</td>\n",
              "    </tr>\n",
              "    <tr>\n",
              "      <th>998</th>\n",
              "      <td>979109</td>\n",
              "      <td>132918</td>\n",
              "      <td>MU</td>\n",
              "      <td>FP2</td>\n",
              "      <td>6</td>\n",
              "      <td>459</td>\n",
              "      <td>521,510,520,519,512,516,503,523,526,519,510,51...</td>\n",
              "    </tr>\n",
              "  </tbody>\n",
              "</table>\n",
              "<p>999 rows × 7 columns</p>\n",
              "</div>"
            ],
            "text/plain": [
              "          0       1  ...    5                                                  6\n",
              "0    978111  132669  ...  459  475,474,477,486,486,476,479,483,489,483,482,48...\n",
              "1    978112  132669  ...  459  468,487,493,493,498,493,491,490,492,487,483,48...\n",
              "2    978113  132669  ...  459  482,475,490,500,485,470,470,482,490,484,478,48...\n",
              "3    978114  132669  ...  459  470,470,478,489,487,475,469,478,488,483,474,48...\n",
              "4    978115  132670  ...  493  506,499,495,491,492,507,496,500,498,496,499,50...\n",
              "..      ...     ...  ...  ...                                                ...\n",
              "994  979105  132917  ...  493  499,491,489,492,493,491,490,484,491,496,494,49...\n",
              "995  979106  132917  ...  493  514,509,493,495,511,512,492,498,511,518,506,49...\n",
              "996  979107  132918  ...  459  528,521,527,534,531,517,523,532,522,538,521,52...\n",
              "997  979108  132918  ...  459  516,529,531,525,524,520,521,533,524,523,529,52...\n",
              "998  979109  132918  ...  459  521,510,520,519,512,516,503,523,526,519,510,51...\n",
              "\n",
              "[999 rows x 7 columns]"
            ]
          },
          "metadata": {
            "tags": []
          },
          "execution_count": 8
        }
      ]
    },
    {
      "cell_type": "code",
      "metadata": {
        "id": "89YAT1qs2XRi"
      },
      "source": [
        "data = data.rename(columns={0: 'id', 1: 'event',\n",
        "                        2: 'device', 3:'channel',\n",
        "                        4: 'code', 5: 'size', 6:'data'})"
      ],
      "execution_count": 9,
      "outputs": []
    },
    {
      "cell_type": "code",
      "metadata": {
        "colab": {
          "base_uri": "https://localhost:8080/",
          "height": 423
        },
        "id": "aninWw7C4ExD",
        "outputId": "0a562d5c-614a-446b-ec1b-945ba1cae2b0"
      },
      "source": [
        "data"
      ],
      "execution_count": 10,
      "outputs": [
        {
          "output_type": "execute_result",
          "data": {
            "text/html": [
              "<div>\n",
              "<style scoped>\n",
              "    .dataframe tbody tr th:only-of-type {\n",
              "        vertical-align: middle;\n",
              "    }\n",
              "\n",
              "    .dataframe tbody tr th {\n",
              "        vertical-align: top;\n",
              "    }\n",
              "\n",
              "    .dataframe thead th {\n",
              "        text-align: right;\n",
              "    }\n",
              "</style>\n",
              "<table border=\"1\" class=\"dataframe\">\n",
              "  <thead>\n",
              "    <tr style=\"text-align: right;\">\n",
              "      <th></th>\n",
              "      <th>id</th>\n",
              "      <th>event</th>\n",
              "      <th>device</th>\n",
              "      <th>channel</th>\n",
              "      <th>code</th>\n",
              "      <th>size</th>\n",
              "      <th>data</th>\n",
              "    </tr>\n",
              "  </thead>\n",
              "  <tbody>\n",
              "    <tr>\n",
              "      <th>0</th>\n",
              "      <td>978111</td>\n",
              "      <td>132669</td>\n",
              "      <td>MU</td>\n",
              "      <td>TP9</td>\n",
              "      <td>6</td>\n",
              "      <td>459</td>\n",
              "      <td>475,474,477,486,486,476,479,483,489,483,482,48...</td>\n",
              "    </tr>\n",
              "    <tr>\n",
              "      <th>1</th>\n",
              "      <td>978112</td>\n",
              "      <td>132669</td>\n",
              "      <td>MU</td>\n",
              "      <td>FP1</td>\n",
              "      <td>6</td>\n",
              "      <td>459</td>\n",
              "      <td>468,487,493,493,498,493,491,490,492,487,483,48...</td>\n",
              "    </tr>\n",
              "    <tr>\n",
              "      <th>2</th>\n",
              "      <td>978113</td>\n",
              "      <td>132669</td>\n",
              "      <td>MU</td>\n",
              "      <td>FP2</td>\n",
              "      <td>6</td>\n",
              "      <td>459</td>\n",
              "      <td>482,475,490,500,485,470,470,482,490,484,478,48...</td>\n",
              "    </tr>\n",
              "    <tr>\n",
              "      <th>3</th>\n",
              "      <td>978114</td>\n",
              "      <td>132669</td>\n",
              "      <td>MU</td>\n",
              "      <td>TP10</td>\n",
              "      <td>6</td>\n",
              "      <td>459</td>\n",
              "      <td>470,470,478,489,487,475,469,478,488,483,474,48...</td>\n",
              "    </tr>\n",
              "    <tr>\n",
              "      <th>4</th>\n",
              "      <td>978115</td>\n",
              "      <td>132670</td>\n",
              "      <td>MU</td>\n",
              "      <td>TP9</td>\n",
              "      <td>7</td>\n",
              "      <td>493</td>\n",
              "      <td>506,499,495,491,492,507,496,500,498,496,499,50...</td>\n",
              "    </tr>\n",
              "    <tr>\n",
              "      <th>...</th>\n",
              "      <td>...</td>\n",
              "      <td>...</td>\n",
              "      <td>...</td>\n",
              "      <td>...</td>\n",
              "      <td>...</td>\n",
              "      <td>...</td>\n",
              "      <td>...</td>\n",
              "    </tr>\n",
              "    <tr>\n",
              "      <th>994</th>\n",
              "      <td>979105</td>\n",
              "      <td>132917</td>\n",
              "      <td>MU</td>\n",
              "      <td>FP2</td>\n",
              "      <td>9</td>\n",
              "      <td>493</td>\n",
              "      <td>499,491,489,492,493,491,490,484,491,496,494,49...</td>\n",
              "    </tr>\n",
              "    <tr>\n",
              "      <th>995</th>\n",
              "      <td>979106</td>\n",
              "      <td>132917</td>\n",
              "      <td>MU</td>\n",
              "      <td>TP10</td>\n",
              "      <td>9</td>\n",
              "      <td>493</td>\n",
              "      <td>514,509,493,495,511,512,492,498,511,518,506,49...</td>\n",
              "    </tr>\n",
              "    <tr>\n",
              "      <th>996</th>\n",
              "      <td>979107</td>\n",
              "      <td>132918</td>\n",
              "      <td>MU</td>\n",
              "      <td>TP9</td>\n",
              "      <td>6</td>\n",
              "      <td>459</td>\n",
              "      <td>528,521,527,534,531,517,523,532,522,538,521,52...</td>\n",
              "    </tr>\n",
              "    <tr>\n",
              "      <th>997</th>\n",
              "      <td>979108</td>\n",
              "      <td>132918</td>\n",
              "      <td>MU</td>\n",
              "      <td>FP1</td>\n",
              "      <td>6</td>\n",
              "      <td>459</td>\n",
              "      <td>516,529,531,525,524,520,521,533,524,523,529,52...</td>\n",
              "    </tr>\n",
              "    <tr>\n",
              "      <th>998</th>\n",
              "      <td>979109</td>\n",
              "      <td>132918</td>\n",
              "      <td>MU</td>\n",
              "      <td>FP2</td>\n",
              "      <td>6</td>\n",
              "      <td>459</td>\n",
              "      <td>521,510,520,519,512,516,503,523,526,519,510,51...</td>\n",
              "    </tr>\n",
              "  </tbody>\n",
              "</table>\n",
              "<p>999 rows × 7 columns</p>\n",
              "</div>"
            ],
            "text/plain": [
              "         id   event  ... size                                               data\n",
              "0    978111  132669  ...  459  475,474,477,486,486,476,479,483,489,483,482,48...\n",
              "1    978112  132669  ...  459  468,487,493,493,498,493,491,490,492,487,483,48...\n",
              "2    978113  132669  ...  459  482,475,490,500,485,470,470,482,490,484,478,48...\n",
              "3    978114  132669  ...  459  470,470,478,489,487,475,469,478,488,483,474,48...\n",
              "4    978115  132670  ...  493  506,499,495,491,492,507,496,500,498,496,499,50...\n",
              "..      ...     ...  ...  ...                                                ...\n",
              "994  979105  132917  ...  493  499,491,489,492,493,491,490,484,491,496,494,49...\n",
              "995  979106  132917  ...  493  514,509,493,495,511,512,492,498,511,518,506,49...\n",
              "996  979107  132918  ...  459  528,521,527,534,531,517,523,532,522,538,521,52...\n",
              "997  979108  132918  ...  459  516,529,531,525,524,520,521,533,524,523,529,52...\n",
              "998  979109  132918  ...  459  521,510,520,519,512,516,503,523,526,519,510,51...\n",
              "\n",
              "[999 rows x 7 columns]"
            ]
          },
          "metadata": {
            "tags": []
          },
          "execution_count": 10
        }
      ]
    },
    {
      "cell_type": "code",
      "metadata": {
        "colab": {
          "base_uri": "https://localhost:8080/"
        },
        "id": "N8rEwtHv2hU2",
        "outputId": "ffbf2b0a-936e-4ff4-9ec3-26cebcacdd4a"
      },
      "source": [
        "for i in range(0, len(data)):\n",
        "  data['data'][i]=list(map(int, data['data'][i].split(',')))"
      ],
      "execution_count": 11,
      "outputs": [
        {
          "output_type": "stream",
          "text": [
            "/usr/local/lib/python3.7/dist-packages/ipykernel_launcher.py:2: SettingWithCopyWarning: \n",
            "A value is trying to be set on a copy of a slice from a DataFrame\n",
            "\n",
            "See the caveats in the documentation: https://pandas.pydata.org/pandas-docs/stable/user_guide/indexing.html#returning-a-view-versus-a-copy\n",
            "  \n"
          ],
          "name": "stderr"
        }
      ]
    },
    {
      "cell_type": "code",
      "metadata": {
        "id": "oz3Vw7D22mpP"
      },
      "source": [
        "import numpy\n",
        "from keras.datasets import imdb\n",
        "from keras.models import Sequential\n",
        "from keras.layers import Dense\n",
        "from keras.layers import LSTM\n",
        "from keras.layers.embeddings import Embedding\n",
        "from keras.preprocessing import sequence\n"
      ],
      "execution_count": 12,
      "outputs": []
    },
    {
      "cell_type": "code",
      "metadata": {
        "id": "5vmaI2R93Pb5"
      },
      "source": [
        "df_train = pd.DataFrame({'data':[], 'code':[]})"
      ],
      "execution_count": 13,
      "outputs": []
    },
    {
      "cell_type": "code",
      "metadata": {
        "id": "XE4q-ytV316I"
      },
      "source": [
        "for x in range(len(data['size'])):\n",
        "  if data['size'][x] == 459:\n",
        "    df_train = df_train.append({'data': data['data'][x], 'code':data['code'][x].astype(int)}, ignore_index=True)"
      ],
      "execution_count": 14,
      "outputs": []
    },
    {
      "cell_type": "code",
      "metadata": {
        "colab": {
          "base_uri": "https://localhost:8080/",
          "height": 423
        },
        "id": "sG8mwr7H4LLm",
        "outputId": "c7dfae46-79e6-4c92-fa4d-fbd7d652c7c4"
      },
      "source": [
        "df_train"
      ],
      "execution_count": 15,
      "outputs": [
        {
          "output_type": "execute_result",
          "data": {
            "text/html": [
              "<div>\n",
              "<style scoped>\n",
              "    .dataframe tbody tr th:only-of-type {\n",
              "        vertical-align: middle;\n",
              "    }\n",
              "\n",
              "    .dataframe tbody tr th {\n",
              "        vertical-align: top;\n",
              "    }\n",
              "\n",
              "    .dataframe thead th {\n",
              "        text-align: right;\n",
              "    }\n",
              "</style>\n",
              "<table border=\"1\" class=\"dataframe\">\n",
              "  <thead>\n",
              "    <tr style=\"text-align: right;\">\n",
              "      <th></th>\n",
              "      <th>data</th>\n",
              "      <th>code</th>\n",
              "    </tr>\n",
              "  </thead>\n",
              "  <tbody>\n",
              "    <tr>\n",
              "      <th>0</th>\n",
              "      <td>[475, 474, 477, 486, 486, 476, 479, 483, 489, ...</td>\n",
              "      <td>6.0</td>\n",
              "    </tr>\n",
              "    <tr>\n",
              "      <th>1</th>\n",
              "      <td>[468, 487, 493, 493, 498, 493, 491, 490, 492, ...</td>\n",
              "      <td>6.0</td>\n",
              "    </tr>\n",
              "    <tr>\n",
              "      <th>2</th>\n",
              "      <td>[482, 475, 490, 500, 485, 470, 470, 482, 490, ...</td>\n",
              "      <td>6.0</td>\n",
              "    </tr>\n",
              "    <tr>\n",
              "      <th>3</th>\n",
              "      <td>[470, 470, 478, 489, 487, 475, 469, 478, 488, ...</td>\n",
              "      <td>6.0</td>\n",
              "    </tr>\n",
              "    <tr>\n",
              "      <th>4</th>\n",
              "      <td>[520, 533, 528, 517, 522, 534, 534, 531, 522, ...</td>\n",
              "      <td>6.0</td>\n",
              "    </tr>\n",
              "    <tr>\n",
              "      <th>...</th>\n",
              "      <td>...</td>\n",
              "      <td>...</td>\n",
              "    </tr>\n",
              "    <tr>\n",
              "      <th>274</th>\n",
              "      <td>[503, 506, 507, 506, 499, 493, 505, 507, 511, ...</td>\n",
              "      <td>9.0</td>\n",
              "    </tr>\n",
              "    <tr>\n",
              "      <th>275</th>\n",
              "      <td>[529, 519, 521, 522, 512, 503, 517, 523, 515, ...</td>\n",
              "      <td>9.0</td>\n",
              "    </tr>\n",
              "    <tr>\n",
              "      <th>276</th>\n",
              "      <td>[528, 521, 527, 534, 531, 517, 523, 532, 522, ...</td>\n",
              "      <td>6.0</td>\n",
              "    </tr>\n",
              "    <tr>\n",
              "      <th>277</th>\n",
              "      <td>[516, 529, 531, 525, 524, 520, 521, 533, 524, ...</td>\n",
              "      <td>6.0</td>\n",
              "    </tr>\n",
              "    <tr>\n",
              "      <th>278</th>\n",
              "      <td>[521, 510, 520, 519, 512, 516, 503, 523, 526, ...</td>\n",
              "      <td>6.0</td>\n",
              "    </tr>\n",
              "  </tbody>\n",
              "</table>\n",
              "<p>279 rows × 2 columns</p>\n",
              "</div>"
            ],
            "text/plain": [
              "                                                  data  code\n",
              "0    [475, 474, 477, 486, 486, 476, 479, 483, 489, ...   6.0\n",
              "1    [468, 487, 493, 493, 498, 493, 491, 490, 492, ...   6.0\n",
              "2    [482, 475, 490, 500, 485, 470, 470, 482, 490, ...   6.0\n",
              "3    [470, 470, 478, 489, 487, 475, 469, 478, 488, ...   6.0\n",
              "4    [520, 533, 528, 517, 522, 534, 534, 531, 522, ...   6.0\n",
              "..                                                 ...   ...\n",
              "274  [503, 506, 507, 506, 499, 493, 505, 507, 511, ...   9.0\n",
              "275  [529, 519, 521, 522, 512, 503, 517, 523, 515, ...   9.0\n",
              "276  [528, 521, 527, 534, 531, 517, 523, 532, 522, ...   6.0\n",
              "277  [516, 529, 531, 525, 524, 520, 521, 533, 524, ...   6.0\n",
              "278  [521, 510, 520, 519, 512, 516, 503, 523, 526, ...   6.0\n",
              "\n",
              "[279 rows x 2 columns]"
            ]
          },
          "metadata": {
            "tags": []
          },
          "execution_count": 15
        }
      ]
    },
    {
      "cell_type": "code",
      "metadata": {
        "id": "VlXExq4fZs5-"
      },
      "source": [
        "import torch\n",
        "import torch.nn as nn\n",
        "import torch.nn.functional as F\n",
        "import torch.optim as optim"
      ],
      "execution_count": 19,
      "outputs": []
    },
    {
      "cell_type": "code",
      "metadata": {
        "id": "pmmGLLk9-dva"
      },
      "source": [
        "class LSTMTagger(nn.Module):\n",
        "\n",
        "    def __init__(self, embedding_dim, hidden_dim, vocab_size, tagset_size):\n",
        "        super(LSTMTagger, self).__init__()\n",
        "        self.hidden_dim = hidden_dim\n",
        "\n",
        "        self.word_embeddings = nn.Embedding(vocab_size, embedding_dim)\n",
        "\n",
        "        # The LSTM takes word embeddings as inputs, and outputs hidden states\n",
        "        # with dimensionality hidden_dim.\n",
        "        self.lstm = nn.LSTM(embedding_dim, hidden_dim)\n",
        "\n",
        "        # The linear layer that maps from hidden state space to tag space\n",
        "        self.hidden2tag = nn.Linear(hidden_dim, tagset_size)\n",
        "\n",
        "    def forward(self, sentence):\n",
        "        embeds = self.word_embeddings(sentence)\n",
        "        lstm_out, _ = self.lstm(embeds.view(len(sentence), 1, -1))\n",
        "        tag_space = self.hidden2tag(lstm_out.view(len(sentence), -1))\n",
        "        tag_scores = F.log_softmax(tag_space, dim=1)\n",
        "        return tag_scores"
      ],
      "execution_count": null,
      "outputs": []
    },
    {
      "cell_type": "code",
      "metadata": {
        "colab": {
          "base_uri": "https://localhost:8080/",
          "height": 290
        },
        "id": "lb3YEWNnz-Kf",
        "outputId": "01ea66fb-79a6-4abe-d2bb-356667b2486c"
      },
      "source": [
        "import torch\n",
        "import torch.nn as nn\n",
        "\n",
        "time_steps = 279\n",
        "batch_size = 1\n",
        "in_size = 459\n",
        "classes_no = 1\n",
        "epochs = 5\n",
        "\n",
        "model = nn.LSTM(in_size, classes_no, 2)\n",
        "# input_seq = Variable(torch.randn(time_steps, batch_size, in_size))\n",
        "input_seq =torch.Tensor(df_train['data']).unsqueeze(0)\n",
        "output_seq, _ = model(input_seq)\n",
        "last_output = output_seq[-1]\n",
        "\n",
        "loss = nn.MSELoss()\n",
        "target = torch.Tensor(df_train['code'].astype(int))\n",
        "err = loss(last_output, target)\n",
        "err.backward()\n",
        "\n",
        "model.train()\n",
        "for i in range(epochs):\n",
        "    # h = model.init_hidden(batch_size)\n",
        "    for inputs, labels in (torch.Tensor(df_train['data']).unsqueeze(0), target):\n",
        "        counter += 1\n",
        "        h = tuple([e.data for e in h])\n",
        "        inputs, labels = inputs.to(device), labels.to(device)\n",
        "        model.zero_grad()\n",
        "        output, h = model(inputs, h)\n",
        "        loss = criterion(output.squeeze(), labels.float())\n",
        "        loss.backward()\n",
        "        nn.utils.clip_grad_norm_(model.parameters(), clip)\n",
        "        optimizer.step()\n",
        "        \n",
        "        if counter%print_every == 0:\n",
        "            val_h = model.init_hidden(batch_size)\n",
        "            val_losses = []\n",
        "            model.eval()\n",
        "            for inp, lab in val_loader:\n",
        "                val_h = tuple([each.data for each in val_h])\n",
        "                inp, lab = inp.to(device), lab.to(device)\n",
        "                out, val_h = model(inp, val_h)\n",
        "                val_loss = criterion(out.squeeze(), lab.float())\n",
        "                val_losses.append(val_loss.item())\n",
        "                \n",
        "            model.train()\n",
        "            print(\"Epoch: {}/{}...\".format(i+1, epochs),\n",
        "                  \"Step: {}...\".format(counter),\n",
        "                  \"Loss: {:.6f}...\".format(loss.item()),\n",
        "                  \"Val Loss: {:.6f}\".format(np.mean(val_losses)))\n",
        "            if np.mean(val_losses) <= valid_loss_min:\n",
        "                torch.save(model.state_dict(), './state_dict.pt')\n",
        "                print('Validation loss decreased ({:.6f} --> {:.6f}).  Saving model ...'.format(valid_loss_min,np.mean(val_losses)))\n",
        "                valid_loss_min = np.mean(val_losses)"
      ],
      "execution_count": 39,
      "outputs": [
        {
          "output_type": "stream",
          "text": [
            "/usr/local/lib/python3.7/dist-packages/torch/nn/modules/loss.py:528: UserWarning: Using a target size (torch.Size([279])) that is different to the input size (torch.Size([279, 1])). This will likely lead to incorrect results due to broadcasting. Please ensure they have the same size.\n",
            "  return F.mse_loss(input, target, reduction=self.reduction)\n"
          ],
          "name": "stderr"
        },
        {
          "output_type": "error",
          "ename": "ValueError",
          "evalue": "ignored",
          "traceback": [
            "\u001b[0;31m---------------------------------------------------------------------------\u001b[0m",
            "\u001b[0;31mValueError\u001b[0m                                Traceback (most recent call last)",
            "\u001b[0;32m<ipython-input-39-eae823b8bb52>\u001b[0m in \u001b[0;36m<module>\u001b[0;34m()\u001b[0m\n\u001b[1;32m     22\u001b[0m \u001b[0;32mfor\u001b[0m \u001b[0mi\u001b[0m \u001b[0;32min\u001b[0m \u001b[0mrange\u001b[0m\u001b[0;34m(\u001b[0m\u001b[0mepochs\u001b[0m\u001b[0;34m)\u001b[0m\u001b[0;34m:\u001b[0m\u001b[0;34m\u001b[0m\u001b[0;34m\u001b[0m\u001b[0m\n\u001b[1;32m     23\u001b[0m     \u001b[0;31m# h = model.init_hidden(batch_size)\u001b[0m\u001b[0;34m\u001b[0m\u001b[0;34m\u001b[0m\u001b[0;34m\u001b[0m\u001b[0m\n\u001b[0;32m---> 24\u001b[0;31m     \u001b[0;32mfor\u001b[0m \u001b[0minputs\u001b[0m\u001b[0;34m,\u001b[0m \u001b[0mlabels\u001b[0m \u001b[0;32min\u001b[0m \u001b[0;34m(\u001b[0m\u001b[0mtorch\u001b[0m\u001b[0;34m.\u001b[0m\u001b[0mTensor\u001b[0m\u001b[0;34m(\u001b[0m\u001b[0mdf_train\u001b[0m\u001b[0;34m[\u001b[0m\u001b[0;34m'data'\u001b[0m\u001b[0;34m]\u001b[0m\u001b[0;34m)\u001b[0m\u001b[0;34m.\u001b[0m\u001b[0munsqueeze\u001b[0m\u001b[0;34m(\u001b[0m\u001b[0;36m0\u001b[0m\u001b[0;34m)\u001b[0m\u001b[0;34m,\u001b[0m \u001b[0mtarget\u001b[0m\u001b[0;34m)\u001b[0m\u001b[0;34m:\u001b[0m\u001b[0;34m\u001b[0m\u001b[0;34m\u001b[0m\u001b[0m\n\u001b[0m\u001b[1;32m     25\u001b[0m         \u001b[0mcounter\u001b[0m \u001b[0;34m+=\u001b[0m \u001b[0;36m1\u001b[0m\u001b[0;34m\u001b[0m\u001b[0;34m\u001b[0m\u001b[0m\n\u001b[1;32m     26\u001b[0m         \u001b[0mh\u001b[0m \u001b[0;34m=\u001b[0m \u001b[0mtuple\u001b[0m\u001b[0;34m(\u001b[0m\u001b[0;34m[\u001b[0m\u001b[0me\u001b[0m\u001b[0;34m.\u001b[0m\u001b[0mdata\u001b[0m \u001b[0;32mfor\u001b[0m \u001b[0me\u001b[0m \u001b[0;32min\u001b[0m \u001b[0mh\u001b[0m\u001b[0;34m]\u001b[0m\u001b[0;34m)\u001b[0m\u001b[0;34m\u001b[0m\u001b[0;34m\u001b[0m\u001b[0m\n",
            "\u001b[0;31mValueError\u001b[0m: not enough values to unpack (expected 2, got 1)"
          ]
        }
      ]
    },
    {
      "cell_type": "code",
      "metadata": {
        "id": "nZlmlqDdz-t_"
      },
      "source": [
        "target"
      ],
      "execution_count": null,
      "outputs": []
    },
    {
      "cell_type": "code",
      "metadata": {
        "id": "QK3ntocb1KZv"
      },
      "source": [
        "last_output[0]"
      ],
      "execution_count": null,
      "outputs": []
    },
    {
      "cell_type": "code",
      "metadata": {
        "id": "zbq-qhrD3JpT"
      },
      "source": [
        "last_output.size()"
      ],
      "execution_count": null,
      "outputs": []
    },
    {
      "cell_type": "code",
      "metadata": {
        "colab": {
          "base_uri": "https://localhost:8080/",
          "height": 166
        },
        "id": "j7GjbR813R9Y",
        "outputId": "2de08278-7b0d-4d45-feb3-4e52f1d47c97"
      },
      "source": [
        "last_output.squeeze(1).size()"
      ],
      "execution_count": 3,
      "outputs": [
        {
          "output_type": "error",
          "ename": "NameError",
          "evalue": "ignored",
          "traceback": [
            "\u001b[0;31m---------------------------------------------------------------------------\u001b[0m",
            "\u001b[0;31mNameError\u001b[0m                                 Traceback (most recent call last)",
            "\u001b[0;32m<ipython-input-3-7a1eea0d4efa>\u001b[0m in \u001b[0;36m<module>\u001b[0;34m()\u001b[0m\n\u001b[0;32m----> 1\u001b[0;31m \u001b[0mlast_output\u001b[0m\u001b[0;34m.\u001b[0m\u001b[0msqueeze\u001b[0m\u001b[0;34m(\u001b[0m\u001b[0;36m1\u001b[0m\u001b[0;34m)\u001b[0m\u001b[0;34m.\u001b[0m\u001b[0msize\u001b[0m\u001b[0;34m(\u001b[0m\u001b[0;34m)\u001b[0m\u001b[0;34m\u001b[0m\u001b[0;34m\u001b[0m\u001b[0m\n\u001b[0m",
            "\u001b[0;31mNameError\u001b[0m: name 'last_output' is not defined"
          ]
        }
      ]
    },
    {
      "cell_type": "code",
      "metadata": {
        "id": "DoiDDVD94fYt"
      },
      "source": [
        "last_output"
      ],
      "execution_count": null,
      "outputs": []
    },
    {
      "cell_type": "code",
      "metadata": {
        "id": "heYXV7T05pre"
      },
      "source": [
        ""
      ],
      "execution_count": 3,
      "outputs": []
    }
  ]
}