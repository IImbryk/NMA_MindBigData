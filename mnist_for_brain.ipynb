{
  "nbformat": 4,
  "nbformat_minor": 0,
  "metadata": {
    "colab": {
      "name": "Копия блокнота \"mnist_for_brain\"",
      "provenance": [],
      "collapsed_sections": [],
      "include_colab_link": true
    },
    "kernelspec": {
      "display_name": "Python 3",
      "name": "python3"
    },
    "language_info": {
      "name": "python"
    }
  },
  "cells": [
    {
      "cell_type": "markdown",
      "metadata": {
        "id": "view-in-github",
        "colab_type": "text"
      },
      "source": [
        "<a href=\"https://colab.research.google.com/github/IImbryk/NMA_MindBigData/blob/work/mnist_for_brain.ipynb\" target=\"_parent\"><img src=\"https://colab.research.google.com/assets/colab-badge.svg\" alt=\"Open In Colab\"/></a>"
      ]
    },
    {
      "cell_type": "markdown",
      "metadata": {
        "id": "3NST3jotJc4E"
      },
      "source": [
        "Work plan:\\\n",
        "Step 1. Our task. Data description \\\n",
        "Step 2. Load datasets\\\n",
        "Step 3. \\\n"
      ]
    },
    {
      "cell_type": "markdown",
      "metadata": {
        "id": "PCHlVFpyfYCJ"
      },
      "source": [
        "# 1. Our task. Data description\n",
        "\n",
        "*Predicting the number that a person sees according to EEG data* \\\n",
        "[dataset](http://www.mindbigdata.com/opendb/)\n",
        "\n",
        "* [id]: a numeric, only for reference purposes.\n",
        "\n",
        "* [event] id, a integer, used to distinguish the same event captured at different brain locations, used only by multichannel devices (all except MW).\n",
        "\n",
        "* [device]: a 2 character string, to identify the device used to capture the signals, \"MW\" for MindWave, \"EP\" for Emotive Epoc, \"MU\" for Interaxon Muse & \"IN\" for Emotiv Insight.\n",
        "\n",
        "* [channel]: a string, to indentify the 10/20 brain location of the signal, with possible values:\n",
        " \n",
        "MindWave\t\"FP1\"\n",
        "EPOC\t\"AF3, \"F7\", \"F3\", \"FC5\", \"T7\", \"P7\", \"O1\", \"O2\", \"P8\", \"T8\", \"FC6\", \"F4\", \"F8\", \"AF4\"\n",
        "Muse\t\"TP9,\"FP1\",\"FP2\", \"TP10\"\n",
        "Insight\t\"AF3,\"AF4\",\"T7\",\"T8\",\"PZ\" \n",
        "\n",
        "* [code]: a integer, to indentify the digit been thought/seen, with possible values 0,1,2,3,4,5,6,7,8,9 or -1 for random captured signals not related to any of the digits.\n",
        "\n",
        "* [size]: a integer, to identify the size in number of values captured in the 2 seconds of this signal, since the Hz of each device varies, in \"theory\" the value is close to 512Hz for MW, 128Hz for EP, 220Hz for MU & 128Hz for IN, for each of the 2 seconds.\n",
        "\n",
        "* [data]: a coma separated set of numbers, with the time-series amplitude of the signal, each device uses a different precision to identify the electrical potential captured from the brain: integers in the case of MW & MU or real numbers in the case of EP & IN.\n"
      ]
    },
    {
      "cell_type": "code",
      "metadata": {
        "id": "ovtlpy2Efyby"
      },
      "source": [
        "import pandas as pd\n",
        "import numpy as np\n",
        "import matplotlib.pyplot as plt\n",
        "from sklearn.model_selection import train_test_split\n",
        "\n",
        "from google.colab import drive"
      ],
      "execution_count": 1,
      "outputs": []
    },
    {
      "cell_type": "code",
      "metadata": {
        "colab": {
          "base_uri": "https://localhost:8080/"
        },
        "id": "83-5ewTxkNd3",
        "outputId": "491a47b5-3f92-4233-e98d-995560d2e3ad"
      },
      "source": [
        "drive.mount('/content/drive', force_remount=True)\n",
        "path_dir = '/content/drive/MyDrive/Data Brain MNIST' \n",
        "\n",
        "path_dir_test = '/content/drive/MyDrive/Data Science/Neuromatch Academy/input_test'"
      ],
      "execution_count": 2,
      "outputs": [
        {
          "output_type": "stream",
          "text": [
            "Mounted at /content/drive\n"
          ],
          "name": "stdout"
        }
      ]
    },
    {
      "cell_type": "code",
      "metadata": {
        "id": "lAp_EoE6wK8x"
      },
      "source": [
        "file_name =  ['/MindBigData-EP-v1.0/EP1.01.txt',\n",
        "              '/MindBigData-IN-v1.06/IN.txt',\n",
        "              '/MindBigData-MU-v1.0/MU.txt',\n",
        "              '/MindBigData-MW-v1.0/MW.txt']"
      ],
      "execution_count": 3,
      "outputs": []
    },
    {
      "cell_type": "markdown",
      "metadata": {
        "id": "HetE8fmjff1U"
      },
      "source": [
        "<a id='step_2'></a>\n",
        "# 2. Load data \n"
      ]
    },
    {
      "cell_type": "code",
      "metadata": {
        "id": "EbPSq-let8O4"
      },
      "source": [
        "#load data from 4 files\n",
        "data_EP1 = pd.read_csv(path_dir+file_name[0], sep=\"\\t\", header=None)\n",
        "data_IN = pd.read_csv(path_dir+file_name[1], sep=\"\\t\", header=None)\n",
        "data_MU = pd.read_csv(path_dir+file_name[2], sep=\"\\t\", header=None)\n",
        "data_MW = pd.read_csv(path_dir+file_name[3], sep=\"\\t\", header=None) #, nrows=99)\n",
        "df = pd.concat([data_EP1, data_IN, data_MU, data_MW], ignore_index=True)\n",
        "#data = data_2.copy(deep=True)"
      ],
      "execution_count": 4,
      "outputs": []
    },
    {
      "cell_type": "code",
      "metadata": {
        "id": "lgqQV33I_qME"
      },
      "source": [
        "# переименовать столбцы в соотв. с http://www.mindbigdata.com/opendb/\n",
        "columns_rename = {0: 'id', 1: 'event',\n",
        "                 2: 'device', 3:'channel',\n",
        "                 4: 'code', 5: 'size', 6:'data'}"
      ],
      "execution_count": 5,
      "outputs": []
    },
    {
      "cell_type": "code",
      "metadata": {
        "id": "g6TckLArDLV6"
      },
      "source": [
        "def rename_columns(data):\n",
        "  data = data.rename(columns=columns_rename)\n",
        "  return data"
      ],
      "execution_count": 6,
      "outputs": []
    },
    {
      "cell_type": "code",
      "metadata": {
        "id": "L5X2qpa8DUIK"
      },
      "source": [
        "df = rename_columns(df)\n",
        "# data_MW = rename_columns(data_MW)\n",
        "# data_EP1 = rename_columns(data_EP1)\n",
        "# data_MU = rename_columns(data_MU)\n",
        "# data_IN = rename_columns(data_IN)"
      ],
      "execution_count": 7,
      "outputs": []
    },
    {
      "cell_type": "code",
      "metadata": {
        "colab": {
          "base_uri": "https://localhost:8080/",
          "height": 206
        },
        "id": "6DYKYdd1Dad1",
        "outputId": "0276125b-d033-46b3-d79e-9e5d383d9f2b"
      },
      "source": [
        "df['event']"
      ],
      "execution_count": 8,
      "outputs": [
        {
          "output_type": "execute_result",
          "data": {
            "text/html": [
              "<div>\n",
              "<style scoped>\n",
              "    .dataframe tbody tr th:only-of-type {\n",
              "        vertical-align: middle;\n",
              "    }\n",
              "\n",
              "    .dataframe tbody tr th {\n",
              "        vertical-align: top;\n",
              "    }\n",
              "\n",
              "    .dataframe thead th {\n",
              "        text-align: right;\n",
              "    }\n",
              "</style>\n",
              "<table border=\"1\" class=\"dataframe\">\n",
              "  <thead>\n",
              "    <tr style=\"text-align: right;\">\n",
              "      <th></th>\n",
              "      <th>id</th>\n",
              "      <th>event</th>\n",
              "      <th>device</th>\n",
              "      <th>channel</th>\n",
              "      <th>code</th>\n",
              "      <th>size</th>\n",
              "      <th>data</th>\n",
              "    </tr>\n",
              "  </thead>\n",
              "  <tbody>\n",
              "    <tr>\n",
              "      <th>0</th>\n",
              "      <td>67635</td>\n",
              "      <td>67635</td>\n",
              "      <td>EP</td>\n",
              "      <td>AF3</td>\n",
              "      <td>6</td>\n",
              "      <td>260</td>\n",
              "      <td>4395.384615,4382.564102,4377.435897,4387.17948...</td>\n",
              "    </tr>\n",
              "    <tr>\n",
              "      <th>1</th>\n",
              "      <td>67636</td>\n",
              "      <td>67635</td>\n",
              "      <td>EP</td>\n",
              "      <td>F7</td>\n",
              "      <td>6</td>\n",
              "      <td>260</td>\n",
              "      <td>4489.230769,4475.384615,4474.358974,4486.66666...</td>\n",
              "    </tr>\n",
              "    <tr>\n",
              "      <th>2</th>\n",
              "      <td>67637</td>\n",
              "      <td>67635</td>\n",
              "      <td>EP</td>\n",
              "      <td>F3</td>\n",
              "      <td>6</td>\n",
              "      <td>260</td>\n",
              "      <td>4538.461538,4528.717948,4524.615384,4526.15384...</td>\n",
              "    </tr>\n",
              "    <tr>\n",
              "      <th>3</th>\n",
              "      <td>67638</td>\n",
              "      <td>67635</td>\n",
              "      <td>EP</td>\n",
              "      <td>FC5</td>\n",
              "      <td>6</td>\n",
              "      <td>260</td>\n",
              "      <td>4207.692307,4205.641025,4200.512820,4194.35897...</td>\n",
              "    </tr>\n",
              "    <tr>\n",
              "      <th>4</th>\n",
              "      <td>67639</td>\n",
              "      <td>67635</td>\n",
              "      <td>EP</td>\n",
              "      <td>T7</td>\n",
              "      <td>6</td>\n",
              "      <td>260</td>\n",
              "      <td>4497.948717,4498.461538,4494.871794,4497.94871...</td>\n",
              "    </tr>\n",
              "  </tbody>\n",
              "</table>\n",
              "</div>"
            ],
            "text/plain": [
              "      id  event  ... size                                               data\n",
              "0  67635  67635  ...  260  4395.384615,4382.564102,4377.435897,4387.17948...\n",
              "1  67636  67635  ...  260  4489.230769,4475.384615,4474.358974,4486.66666...\n",
              "2  67637  67635  ...  260  4538.461538,4528.717948,4524.615384,4526.15384...\n",
              "3  67638  67635  ...  260  4207.692307,4205.641025,4200.512820,4194.35897...\n",
              "4  67639  67635  ...  260  4497.948717,4498.461538,4494.871794,4497.94871...\n",
              "\n",
              "[5 rows x 7 columns]"
            ]
          },
          "metadata": {
            "tags": []
          },
          "execution_count": 8
        }
      ]
    },
    {
      "cell_type": "code",
      "metadata": {
        "id": "MvbjRImcEjDc"
      },
      "source": [
        "def merge_data(df1, df2):\n",
        "  # data['event'].value_counts()\n",
        "  \"\"\"\n",
        "  column EVENT don't intersection in 4 files.\n",
        "  \"\"\"\n",
        "  df3 = df1.merge(df2, left_on=\"event\", right_on=\"event\", how=\"inner\")\n",
        "  print(df3[\"event\"])"
      ],
      "execution_count": null,
      "outputs": []
    },
    {
      "cell_type": "code",
      "metadata": {
        "id": "U67zPs3i6qjk"
      },
      "source": [
        "min_len = data_MW['size'].min()\n",
        "max_len = data_MW['size'].max()\n",
        "# print(max_len, min_len)\n",
        "columns_name = ['eeg'+str(x) for x in range(max_len)]"
      ],
      "execution_count": null,
      "outputs": []
    },
    {
      "cell_type": "code",
      "metadata": {
        "id": "a9VCSRSO78OH"
      },
      "source": [
        "# mat = np.matrix(data[6][0].split(\",\")[0:max_len])\n",
        "# for i in range(1, len(data)):\n",
        "  # mat = np.append(mat,np.matrix(data[6][i].split(\",\")[0:max_len]), axis=0)\n",
        "# df_new = pd.concat([data, pd.DataFrame(mat, columns=columns_name)], axis=1)"
      ],
      "execution_count": null,
      "outputs": []
    },
    {
      "cell_type": "code",
      "metadata": {
        "id": "wScpuXsEAO-W"
      },
      "source": [
        "###Polina \n",
        "# list_of_names = ['id', 'event', 'device','channel', 'code', 'size', 'data']\n",
        "# df= pd.read_csv('gdrive/My Drive/Data Brain MNIST/MindBigData-MW-v1.0/MW.txt', delimiter = \"\\t\", names = list_of_names)\n",
        "# for i in range(len(df['data'])):\n",
        "  # df['data'][i] = df['data'][i].split(',') ###uncomment for the first time only \n",
        "  # for j in range(len(df['data'][i])):\n",
        "    # df['data'][i][j] = int(df['data'][i][j])"
      ],
      "execution_count": null,
      "outputs": []
    },
    {
      "cell_type": "code",
      "metadata": {
        "id": "6YE8pkM7U_GX"
      },
      "source": [
        "def parse_str(data_inp, max_len):\n",
        "  data = data_inp.copy(deep=True)\n",
        "  for i in range(0, len(data)):\n",
        "    eeg = list(map(int, data['data'][i].split(',')))\n",
        "    zero_add = [0] * (max_len - len(eeg))\n",
        "    data['data'][i] = eeg + zero_add\n",
        "  return data"
      ],
      "execution_count": null,
      "outputs": []
    },
    {
      "cell_type": "code",
      "metadata": {
        "id": "IQqUETl3iRw9",
        "colab": {
          "base_uri": "https://localhost:8080/"
        },
        "outputId": "db5b3332-d7b8-4493-f880-536a83166af3"
      },
      "source": [
        "data_MW_copy = parse_str(data_MW, data_MW['size'].max())"
      ],
      "execution_count": null,
      "outputs": [
        {
          "output_type": "stream",
          "text": [
            "/usr/local/lib/python3.7/dist-packages/ipykernel_launcher.py:6: SettingWithCopyWarning: \n",
            "A value is trying to be set on a copy of a slice from a DataFrame\n",
            "\n",
            "See the caveats in the documentation: https://pandas.pydata.org/pandas-docs/stable/user_guide/indexing.html#returning-a-view-versus-a-copy\n",
            "  \n"
          ],
          "name": "stderr"
        }
      ]
    },
    {
      "cell_type": "code",
      "metadata": {
        "id": "AXzRNsasipk_"
      },
      "source": [
        "# # фильтрация - пока не нужна!\n",
        "# from scipy.interpolate import Rbf\n",
        "\n",
        "# y = data['data'][1]\n",
        "\n",
        "# rbf = Rbf(range(0,max_len), y, function = 'quintic', smooth = 10)\n",
        "\n",
        "# xnew = np.linspace(0, max_len, num = 100, endpoint = True)\n",
        "# ynew = rbf(xnew)\n",
        "\n",
        "# plt.figure()\n",
        "# plt.plot(y)\n",
        "# plt.plot(xnew, ynew, 'r')\n",
        "# plt.show()"
      ],
      "execution_count": null,
      "outputs": []
    },
    {
      "cell_type": "markdown",
      "metadata": {
        "id": "7lopKEH3eRKS"
      },
      "source": [
        "# Train linear model"
      ]
    },
    {
      "cell_type": "code",
      "metadata": {
        "id": "M5qxMcw5efkS"
      },
      "source": [
        "# Imports\n",
        "import time\n",
        "import torch\n",
        "import random\n",
        "import numpy as np\n",
        "import pandas as pd\n",
        "import matplotlib.pyplot as plt\n",
        "\n",
        "import torch.nn as nn\n",
        "import torch.optim as optim\n",
        "from torch import nn\n",
        "from torchvision import datasets\n",
        "from torchvision.transforms import ToTensor\n",
        "from torch.utils.data import DataLoader"
      ],
      "execution_count": 9,
      "outputs": []
    },
    {
      "cell_type": "code",
      "metadata": {
        "id": "6DsgXA1beUPW"
      },
      "source": [
        "class LNNet(nn.Module):\n",
        "  \"\"\"A Linear Neural Net with one hidden layer\n",
        "  \"\"\"\n",
        "\n",
        "  def __init__(self, in_dim, hid_dim, out_dim):\n",
        "    \"\"\"\n",
        "    Args:\n",
        "      in_dim (int): input dimension\n",
        "      out_dim (int): ouput dimension\n",
        "      hid_dim (int): hidden dimension\n",
        "    \"\"\"\n",
        "    super().__init__()\n",
        "    self.in_hid = nn.Linear(in_dim, hid_dim, bias=False)\n",
        "    self.hid_out = nn.Linear(hid_dim, out_dim, bias=False)\n",
        "\n",
        "  def forward(self, x):\n",
        "    \"\"\"\n",
        "    Args:\n",
        "      x (torch.Tensor): input tensor\n",
        "    \"\"\"\n",
        "    hid = self.in_hid(x)  # hidden activity\n",
        "    out = self.hid_out(hid)  # output (prediction)\n",
        "    return out, hid\n"
      ],
      "execution_count": null,
      "outputs": []
    },
    {
      "cell_type": "code",
      "metadata": {
        "id": "fvseN-kLfs5x"
      },
      "source": [
        "def train(model, inputs, targets, n_epochs, lr, illusory_i=0):\n",
        "  \"\"\"Training function\n",
        "\n",
        "  Args:\n",
        "    model (torch nn.Module): the neural network\n",
        "    inputs (torch.Tensor): features (input) with shape `[batch_size, input_dim]`\n",
        "    targets (torch.Tensor): targets (labels) with shape `[batch_size, output_dim]`\n",
        "    n_epochs (int): number of training epochs (iterations)\n",
        "    lr (float): learning rate\n",
        "    illusory_i (int): index of illusory feature\n",
        "\n",
        "  Returns:\n",
        "    np.ndarray: record (evolution) of training loss\n",
        "    np.ndarray: record (evolution) of singular values (dynamic modes)\n",
        "    np.ndarray: record (evolution) of representational similarity matrices\n",
        "    np.ndarray: record of network prediction for the last feature\n",
        "  \"\"\"\n",
        "  in_dim = inputs.size(1)\n",
        "  losses = np.zeros(n_epochs)  # loss records\n",
        "\n",
        "  optimizer = optim.SGD(model.parameters(), lr=lr)\n",
        "  criterion = nn.MSELoss()\n",
        "\n",
        "  for i in range(n_epochs):\n",
        "    optimizer.zero_grad()\n",
        "    predictions, hiddens = model(inputs)\n",
        "\n",
        "    loss = criterion(predictions, targets)\n",
        "    loss.backward()\n",
        "    optimizer.step()\n",
        "    losses[i] = loss.item()\n",
        "\n",
        "  return losses"
      ],
      "execution_count": null,
      "outputs": []
    },
    {
      "cell_type": "code",
      "metadata": {
        "id": "1V4NyGGFSG9I"
      },
      "source": [
        "def plot_loss(loss_array, title=\"Training loss (Mean Squared Error)\", c=\"r\"):\n",
        "  plt.figure(figsize=(10, 5))\n",
        "  plt.plot(loss_array, color=c)\n",
        "  plt.xlabel(\"Epoch\")\n",
        "  plt.ylabel(\"MSE\")\n",
        "  plt.title(title)\n",
        "  plt.show()"
      ],
      "execution_count": null,
      "outputs": []
    },
    {
      "cell_type": "code",
      "metadata": {
        "id": "GvTsmniLd_dx"
      },
      "source": [
        "# split into train test sets\n",
        "y = torch.tensor([data_MW_copy['code']]).float().T\n",
        "X = torch.tensor(data_MW_copy['data']).float() # data_EP1.drop(columns=['id', 'event', 'code'], axis=1) \n",
        "\n",
        "label_tensor = torch.tensor(data_MW_copy['data']).float()\n",
        "feature_tensor = torch.tensor([data_MW_copy['code']]).float().T\n",
        "\n",
        "\n",
        "X_train, X_test, y_train, y_test = train_test_split(X, y)"
      ],
      "execution_count": null,
      "outputs": []
    },
    {
      "cell_type": "code",
      "metadata": {
        "colab": {
          "base_uri": "https://localhost:8080/"
        },
        "id": "zKYeYKjpaJnI",
        "outputId": "0edd414e-4a2c-4165-b2a6-cf0b47045902"
      },
      "source": [
        "y_train"
      ],
      "execution_count": null,
      "outputs": [
        {
          "output_type": "execute_result",
          "data": {
            "text/plain": [
              "tensor([[3.],\n",
              "        [4.],\n",
              "        [2.],\n",
              "        ...,\n",
              "        [4.],\n",
              "        [2.],\n",
              "        [8.]])"
            ]
          },
          "metadata": {
            "tags": []
          },
          "execution_count": 59
        }
      ]
    },
    {
      "cell_type": "code",
      "metadata": {
        "id": "LQlfZXHWaNHM"
      },
      "source": [
        "# train_set_orig, test_set_orig= torch.utils.data.random_split(X, [len(X)-10000, 10000])\n",
        "\n",
        "# BATCH_SIZE = 1\n",
        "# # Create the corresponding DataLoaders for training and test\n",
        "# g_seed = torch.Generator()\n",
        "\n",
        "# train_loader = torch.utils.data.DataLoader(train_set_orig,\n",
        "#                                            shuffle=True,\n",
        "#                                            batch_size=BATCH_SIZE,\n",
        "#                                            num_workers=2,\n",
        "#                                            generator=g_seed)\n",
        "# test_loader = torch.utils.data.DataLoader(test_set_orig,\n",
        "#                                           batch_size=256,\n",
        "#                                           num_workers=2,\n",
        "#                                           generator=g_seed)"
      ],
      "execution_count": null,
      "outputs": []
    },
    {
      "cell_type": "code",
      "metadata": {
        "colab": {
          "base_uri": "https://localhost:8080/",
          "height": 350
        },
        "id": "gIFwHdUjcAVY",
        "outputId": "66e02f73-5ee0-46ec-8067-3574b45119ca"
      },
      "source": [
        "lr = 10.0 # learning rate\n",
        "gamma = 1e-12  # initialization scale\n",
        "n_epochs = 250  # number of epochs\n",
        "dim_input = X_train.size(1)\n",
        "dim_hidden = 1024# 1017 # hidden neurons\n",
        "dim_output = y_train.size(1)  # output dimension = `feature_tensor.size(1)`\n",
        "\n",
        "# model instantiation\n",
        "dlnn_model = LNNet(dim_input, dim_hidden, dim_output)\n",
        "\n",
        "# weights re-initialization\n",
        "# initializer_(dlnn_model, gamma)\n",
        "# training\n",
        "losses = train(dlnn_model,\n",
        "                  X_train,\n",
        "                  y_train,\n",
        "                  n_epochs=n_epochs,\n",
        "                  lr=lr)\n",
        "\n",
        "# plotting\n",
        "plot_loss(losses)"
      ],
      "execution_count": null,
      "outputs": [
        {
          "output_type": "display_data",
          "data": {
            "image/png": "[encoded data removed]",
            "text/plain": [
              "<Figure size 720x360 with 1 Axes>"
            ]
          },
          "metadata": {
            "tags": [],
            "needs_background": "light"
          }
        }
      ]
    },
    {
      "cell_type": "markdown",
      "metadata": {
        "id": "DDIRVRHpx2Uc"
      },
      "source": [
        "# MNE Lib (https://mne.tools/)"
      ]
    },
    {
      "cell_type": "markdown",
      "metadata": {
        "id": "lEbqarjaAfnU"
      },
      "source": [
        "try this example:https://www.kaggle.com/broach/getting-started-with-mne-python-and-subs-1-to-24/data?scriptVersionId=13939515&select=time.csv\n",
        "\n",
        "doc: https://github.com/mne-tools/mne-python"
      ]
    },
    {
      "cell_type": "code",
      "metadata": {
        "colab": {
          "background_save": true,
          "base_uri": "https://localhost:8080/"
        },
        "id": "j1BL-NgTvkEn",
        "outputId": "47c7ec1f-60a0-45f9-8f29-954c21d658a3"
      },
      "source": [
        "!pip install -U mne"
      ],
      "execution_count": null,
      "outputs": [
        {
          "output_type": "stream",
          "text": [
            "Requirement already satisfied: mne in /usr/local/lib/python3.7/dist-packages (0.23.0)\n",
            "Requirement already satisfied: numpy>=1.15.4 in /usr/local/lib/python3.7/dist-packages (from mne) (1.19.5)\n",
            "Requirement already satisfied: scipy>=1.1.0 in /usr/local/lib/python3.7/dist-packages (from mne) (1.4.1)\n"
          ],
          "name": "stdout"
        }
      ]
    },
    {
      "cell_type": "code",
      "metadata": {
        "id": "2BbZdX4Gtmtr"
      },
      "source": [
        "import mne"
      ],
      "execution_count": null,
      "outputs": []
    },
    {
      "cell_type": "code",
      "metadata": {
        "id": "7R_tjM18tsV1"
      },
      "source": [
        "import numpy as np\n",
        "import pandas as pd\n",
        "from mne import EpochsArray\n",
        "from mne.channels import make_standard_montage #read_montage\n",
        "from mne.epochs import concatenate_epochs\n",
        "from mne import create_info, find_events, Epochs\n",
        "#from mne.viz.topomap import _prepare_topo_plot, plot_topomap\n",
        "from mne.decoding import CSP\n",
        "\n",
        "from sklearn.pipeline import make_pipeline\n",
        "from sklearn.linear_model import LogisticRegression\n",
        "from sklearn.metrics import roc_auc_score\n",
        "from sklearn.model_selection import cross_val_score, LeaveOneGroupOut\n",
        "from glob import glob\n",
        "\n",
        "import matplotlib.pyplot as plt\n",
        "from mpl_toolkits.axes_grid1 import make_axes_locatable\n",
        "\n",
        "from scipy.signal import welch\n",
        "from mne import pick_types\n",
        "\n",
        "# Input data files are available in the \"../input/\" directory.\n",
        "# For example, running this (by clicking run or pressing Shift+Enter) will list the files in the input directory\n",
        "\n",
        "from subprocess import check_output"
      ],
      "execution_count": null,
      "outputs": []
    },
    {
      "cell_type": "code",
      "metadata": {
        "id": "VbWa-OsLt06q"
      },
      "source": [
        "col_names = pd.read_csv(path_dir_test+'/columnLabels.csv')"
      ],
      "execution_count": null,
      "outputs": []
    },
    {
      "cell_type": "code",
      "metadata": {
        "id": "KOVHH_cewUPP"
      },
      "source": [
        "ch_names = list(col_names.columns[4:])\n",
        "#ch_names = montage.ch_names\n",
        "# define the channel type, where the first 64 are EEG, next 4 are EOG, then Nose,\n",
        "#and finally right mastoid (EEG)\n",
        "ch_type = ['eeg']*64 + ['eog']*4 + ['misc'] + ['eeg']\n",
        "    \n",
        "# The sampling rate of the recording\n",
        "sfreq = 1024  # in Hertz (samples per second)\n",
        "\n",
        "#print(ch_names)\n",
        "# read EEG standard montage from mne\n",
        "montage = make_standard_montage('standard_1005')\n",
        "\n",
        "# Initialize required fields\n",
        "info = create_info(ch_names=ch_names, sfreq=20, ch_types=ch_type)\n",
        "#for debugging:\n",
        "fname = path_dir_test + '/1.csv'"
      ],
      "execution_count": null,
      "outputs": []
    },
    {
      "cell_type": "code",
      "metadata": {
        "id": "F3IvHXXtwjt2"
      },
      "source": [
        "#define the function:\n",
        "def creat_mne_epoch_object(fname, info):\n",
        "    \"\"\"Create a mne epoch instance from csv file\"\"\"\n",
        "    # Add some more information\n",
        "    info['description'] = 'dataset from ' + fname\n",
        "    \n",
        "    # Trials were cut from -1.5 to 1.5 seconds\n",
        "    tmin = -1.5\n",
        "\n",
        "    # Read EEG file\n",
        "    data = pd.read_csv(fname, header=None)\n",
        "    #print(data)\n",
        "    #and convert it to numpy array:\n",
        "    npdata = np.array(data)\n",
        "    \n",
        "    #the first 4 columns of the data frame are the\n",
        "    #subject number... subNumber = npdata[:,0]\n",
        "    #trial number... trialNumber = npdata[:,1]\n",
        "    #condition number... conditions = npdata[:,2]\n",
        "    #and sample number (within a trial)... sampleNumber = npdata[:,3]\n",
        "    \n",
        "    #sample 1537 is time 0, use that for the event \n",
        "    onsets = np.array(np.where(npdata[:,3]==1537))\n",
        "    conditions = npdata[npdata[:,3]==1537,2]\n",
        "\n",
        "\n",
        "\n",
        "    #use these to make an events array for mne (middle column are zeros):\n",
        "    events = np.squeeze(np.dstack((onsets.flatten(), np.zeros(conditions.shape),conditions)))\n",
        "    #print(events)\n",
        "\n",
        "    #now we just need EEGdata in a 3D shape (n_epochs, n_channels, n_samples)\n",
        "    EEGdata = npdata.reshape(len(conditions),3072,74)\n",
        "    #remove the first 4 columns (non-eeg, described above):\n",
        "    EEGdata = EEGdata[:,:,4:]\n",
        "    EEGdata = np.swapaxes(EEGdata,1,2)\n",
        "    \n",
        "    #create labels for the conditions, 1, 2, and 3:\n",
        "    event_id = dict(button_tone=1, playback_tone=2, button_alone=3)\n",
        "    \n",
        "    # create raw object \n",
        "    custom_epochs = EpochsArray(EEGdata, info=info, events=events.astype('int'), tmin=tmin, event_id=event_id)\n",
        "    return custom_epochs"
      ],
      "execution_count": null,
      "outputs": []
    },
    {
      "cell_type": "code",
      "metadata": {
        "colab": {
          "base_uri": "https://localhost:8080/"
        },
        "id": "zlU0mtvhxLWd",
        "outputId": "7946ca73-4aa8-4178-e27c-ec0f9838a2ee"
      },
      "source": [
        "custom_epochs = creat_mne_epoch_object(fname, info)"
      ],
      "execution_count": null,
      "outputs": [
        {
          "output_type": "stream",
          "text": [
            "[[1.53600e+03 0.00000e+00 1.00000e+00]\n",
            " [4.60800e+03 0.00000e+00 1.00000e+00]\n",
            " [7.68000e+03 0.00000e+00 2.00000e+00]\n",
            " [1.07520e+04 0.00000e+00 3.00000e+00]\n",
            " [1.38240e+04 0.00000e+00 1.00000e+00]\n",
            " [1.68960e+04 0.00000e+00 2.00000e+00]\n",
            " [1.99680e+04 0.00000e+00 1.00000e+00]\n",
            " [2.30400e+04 0.00000e+00 2.00000e+00]\n",
            " [2.61120e+04 0.00000e+00 3.00000e+00]\n",
            " [2.91840e+04 0.00000e+00 1.00000e+00]\n",
            " [3.22560e+04 0.00000e+00 2.00000e+00]\n",
            " [3.53280e+04 0.00000e+00 3.00000e+00]\n",
            " [3.84000e+04 0.00000e+00 1.00000e+00]\n",
            " [4.14720e+04 0.00000e+00 2.00000e+00]\n",
            " [4.45440e+04 0.00000e+00 3.00000e+00]\n",
            " [4.76160e+04 0.00000e+00 1.00000e+00]\n",
            " [5.06880e+04 0.00000e+00 2.00000e+00]\n",
            " [5.37600e+04 0.00000e+00 3.00000e+00]\n",
            " [5.68320e+04 0.00000e+00 1.00000e+00]\n",
            " [5.99040e+04 0.00000e+00 2.00000e+00]\n",
            " [6.29760e+04 0.00000e+00 3.00000e+00]\n",
            " [6.60480e+04 0.00000e+00 1.00000e+00]\n",
            " [6.91200e+04 0.00000e+00 2.00000e+00]\n",
            " [7.21920e+04 0.00000e+00 3.00000e+00]\n",
            " [7.52640e+04 0.00000e+00 1.00000e+00]\n",
            " [7.83360e+04 0.00000e+00 2.00000e+00]\n",
            " [8.14080e+04 0.00000e+00 3.00000e+00]\n",
            " [8.44800e+04 0.00000e+00 1.00000e+00]\n",
            " [8.75520e+04 0.00000e+00 2.00000e+00]\n",
            " [9.06240e+04 0.00000e+00 3.00000e+00]\n",
            " [9.36960e+04 0.00000e+00 1.00000e+00]\n",
            " [9.67680e+04 0.00000e+00 2.00000e+00]\n",
            " [9.98400e+04 0.00000e+00 1.00000e+00]\n",
            " [1.02912e+05 0.00000e+00 2.00000e+00]\n",
            " [1.05984e+05 0.00000e+00 3.00000e+00]\n",
            " [1.09056e+05 0.00000e+00 1.00000e+00]\n",
            " [1.12128e+05 0.00000e+00 2.00000e+00]\n",
            " [1.15200e+05 0.00000e+00 3.00000e+00]\n",
            " [1.18272e+05 0.00000e+00 1.00000e+00]\n",
            " [1.21344e+05 0.00000e+00 2.00000e+00]\n",
            " [1.24416e+05 0.00000e+00 3.00000e+00]\n",
            " [1.27488e+05 0.00000e+00 1.00000e+00]\n",
            " [1.30560e+05 0.00000e+00 2.00000e+00]\n",
            " [1.33632e+05 0.00000e+00 3.00000e+00]\n",
            " [1.36704e+05 0.00000e+00 1.00000e+00]\n",
            " [1.39776e+05 0.00000e+00 2.00000e+00]\n",
            " [1.42848e+05 0.00000e+00 3.00000e+00]\n",
            " [1.45920e+05 0.00000e+00 1.00000e+00]\n",
            " [1.48992e+05 0.00000e+00 2.00000e+00]\n",
            " [1.52064e+05 0.00000e+00 3.00000e+00]\n",
            " [1.55136e+05 0.00000e+00 1.00000e+00]\n",
            " [1.58208e+05 0.00000e+00 2.00000e+00]\n",
            " [1.61280e+05 0.00000e+00 3.00000e+00]\n",
            " [1.64352e+05 0.00000e+00 1.00000e+00]\n",
            " [1.67424e+05 0.00000e+00 2.00000e+00]\n",
            " [1.70496e+05 0.00000e+00 3.00000e+00]\n",
            " [1.73568e+05 0.00000e+00 1.00000e+00]\n",
            " [1.76640e+05 0.00000e+00 2.00000e+00]\n",
            " [1.79712e+05 0.00000e+00 1.00000e+00]\n",
            " [1.82784e+05 0.00000e+00 2.00000e+00]\n",
            " [1.85856e+05 0.00000e+00 3.00000e+00]\n",
            " [1.88928e+05 0.00000e+00 1.00000e+00]\n",
            " [1.92000e+05 0.00000e+00 2.00000e+00]\n",
            " [1.95072e+05 0.00000e+00 3.00000e+00]\n",
            " [1.98144e+05 0.00000e+00 1.00000e+00]\n",
            " [2.01216e+05 0.00000e+00 2.00000e+00]\n",
            " [2.04288e+05 0.00000e+00 3.00000e+00]\n",
            " [2.07360e+05 0.00000e+00 1.00000e+00]\n",
            " [2.10432e+05 0.00000e+00 2.00000e+00]\n",
            " [2.13504e+05 0.00000e+00 3.00000e+00]\n",
            " [2.16576e+05 0.00000e+00 1.00000e+00]\n",
            " [2.19648e+05 0.00000e+00 2.00000e+00]\n",
            " [2.22720e+05 0.00000e+00 3.00000e+00]\n",
            " [2.25792e+05 0.00000e+00 1.00000e+00]\n",
            " [2.28864e+05 0.00000e+00 2.00000e+00]\n",
            " [2.31936e+05 0.00000e+00 3.00000e+00]\n",
            " [2.35008e+05 0.00000e+00 1.00000e+00]\n",
            " [2.38080e+05 0.00000e+00 2.00000e+00]\n",
            " [2.41152e+05 0.00000e+00 3.00000e+00]\n",
            " [2.44224e+05 0.00000e+00 1.00000e+00]\n",
            " [2.47296e+05 0.00000e+00 2.00000e+00]\n",
            " [2.50368e+05 0.00000e+00 3.00000e+00]\n",
            " [2.53440e+05 0.00000e+00 1.00000e+00]\n",
            " [2.56512e+05 0.00000e+00 2.00000e+00]\n",
            " [2.59584e+05 0.00000e+00 3.00000e+00]\n",
            " [2.62656e+05 0.00000e+00 1.00000e+00]\n",
            " [2.65728e+05 0.00000e+00 2.00000e+00]\n",
            " [2.68800e+05 0.00000e+00 3.00000e+00]\n",
            " [2.71872e+05 0.00000e+00 1.00000e+00]\n",
            " [2.74944e+05 0.00000e+00 2.00000e+00]\n",
            " [2.78016e+05 0.00000e+00 3.00000e+00]\n",
            " [2.81088e+05 0.00000e+00 1.00000e+00]\n",
            " [2.84160e+05 0.00000e+00 2.00000e+00]\n",
            " [2.87232e+05 0.00000e+00 3.00000e+00]\n",
            " [2.90304e+05 0.00000e+00 1.00000e+00]\n",
            " [2.93376e+05 0.00000e+00 3.00000e+00]\n",
            " [2.96448e+05 0.00000e+00 1.00000e+00]\n",
            " [2.99520e+05 0.00000e+00 2.00000e+00]\n",
            " [3.02592e+05 0.00000e+00 3.00000e+00]\n",
            " [3.05664e+05 0.00000e+00 1.00000e+00]\n",
            " [3.08736e+05 0.00000e+00 2.00000e+00]\n",
            " [3.11808e+05 0.00000e+00 3.00000e+00]\n",
            " [3.14880e+05 0.00000e+00 1.00000e+00]\n",
            " [3.17952e+05 0.00000e+00 2.00000e+00]\n",
            " [3.21024e+05 0.00000e+00 3.00000e+00]\n",
            " [3.24096e+05 0.00000e+00 1.00000e+00]\n",
            " [3.27168e+05 0.00000e+00 2.00000e+00]\n",
            " [3.30240e+05 0.00000e+00 3.00000e+00]\n",
            " [3.33312e+05 0.00000e+00 1.00000e+00]\n",
            " [3.36384e+05 0.00000e+00 3.00000e+00]\n",
            " [3.39456e+05 0.00000e+00 1.00000e+00]\n",
            " [3.42528e+05 0.00000e+00 2.00000e+00]\n",
            " [3.45600e+05 0.00000e+00 3.00000e+00]\n",
            " [3.48672e+05 0.00000e+00 1.00000e+00]\n",
            " [3.51744e+05 0.00000e+00 2.00000e+00]\n",
            " [3.54816e+05 0.00000e+00 3.00000e+00]\n",
            " [3.57888e+05 0.00000e+00 1.00000e+00]\n",
            " [3.60960e+05 0.00000e+00 2.00000e+00]\n",
            " [3.64032e+05 0.00000e+00 3.00000e+00]\n",
            " [3.67104e+05 0.00000e+00 1.00000e+00]\n",
            " [3.70176e+05 0.00000e+00 2.00000e+00]\n",
            " [3.73248e+05 0.00000e+00 3.00000e+00]\n",
            " [3.76320e+05 0.00000e+00 1.00000e+00]\n",
            " [3.79392e+05 0.00000e+00 2.00000e+00]\n",
            " [3.82464e+05 0.00000e+00 3.00000e+00]\n",
            " [3.85536e+05 0.00000e+00 1.00000e+00]\n",
            " [3.88608e+05 0.00000e+00 2.00000e+00]\n",
            " [3.91680e+05 0.00000e+00 3.00000e+00]\n",
            " [3.94752e+05 0.00000e+00 1.00000e+00]\n",
            " [3.97824e+05 0.00000e+00 3.00000e+00]\n",
            " [4.00896e+05 0.00000e+00 1.00000e+00]\n",
            " [4.03968e+05 0.00000e+00 2.00000e+00]\n",
            " [4.07040e+05 0.00000e+00 3.00000e+00]\n",
            " [4.10112e+05 0.00000e+00 1.00000e+00]\n",
            " [4.13184e+05 0.00000e+00 2.00000e+00]\n",
            " [4.16256e+05 0.00000e+00 3.00000e+00]\n",
            " [4.19328e+05 0.00000e+00 1.00000e+00]\n",
            " [4.22400e+05 0.00000e+00 2.00000e+00]\n",
            " [4.25472e+05 0.00000e+00 3.00000e+00]\n",
            " [4.28544e+05 0.00000e+00 1.00000e+00]\n",
            " [4.31616e+05 0.00000e+00 2.00000e+00]\n",
            " [4.34688e+05 0.00000e+00 3.00000e+00]\n",
            " [4.37760e+05 0.00000e+00 1.00000e+00]\n",
            " [4.40832e+05 0.00000e+00 2.00000e+00]\n",
            " [4.43904e+05 0.00000e+00 3.00000e+00]\n",
            " [4.46976e+05 0.00000e+00 1.00000e+00]\n",
            " [4.50048e+05 0.00000e+00 2.00000e+00]\n",
            " [4.53120e+05 0.00000e+00 3.00000e+00]\n",
            " [4.56192e+05 0.00000e+00 1.00000e+00]\n",
            " [4.59264e+05 0.00000e+00 2.00000e+00]\n",
            " [4.62336e+05 0.00000e+00 3.00000e+00]\n",
            " [4.65408e+05 0.00000e+00 1.00000e+00]\n",
            " [4.68480e+05 0.00000e+00 2.00000e+00]\n",
            " [4.71552e+05 0.00000e+00 3.00000e+00]\n",
            " [4.74624e+05 0.00000e+00 1.00000e+00]\n",
            " [4.77696e+05 0.00000e+00 2.00000e+00]\n",
            " [4.80768e+05 0.00000e+00 3.00000e+00]\n",
            " [4.83840e+05 0.00000e+00 1.00000e+00]\n",
            " [4.86912e+05 0.00000e+00 2.00000e+00]\n",
            " [4.89984e+05 0.00000e+00 3.00000e+00]\n",
            " [4.93056e+05 0.00000e+00 1.00000e+00]\n",
            " [4.96128e+05 0.00000e+00 3.00000e+00]\n",
            " [4.99200e+05 0.00000e+00 1.00000e+00]\n",
            " [5.02272e+05 0.00000e+00 2.00000e+00]\n",
            " [5.05344e+05 0.00000e+00 3.00000e+00]\n",
            " [5.08416e+05 0.00000e+00 1.00000e+00]\n",
            " [5.11488e+05 0.00000e+00 2.00000e+00]\n",
            " [5.14560e+05 0.00000e+00 3.00000e+00]\n",
            " [5.17632e+05 0.00000e+00 1.00000e+00]\n",
            " [5.20704e+05 0.00000e+00 2.00000e+00]\n",
            " [5.23776e+05 0.00000e+00 3.00000e+00]\n",
            " [5.26848e+05 0.00000e+00 1.00000e+00]\n",
            " [5.29920e+05 0.00000e+00 2.00000e+00]\n",
            " [5.32992e+05 0.00000e+00 3.00000e+00]\n",
            " [5.36064e+05 0.00000e+00 1.00000e+00]\n",
            " [5.39136e+05 0.00000e+00 2.00000e+00]\n",
            " [5.42208e+05 0.00000e+00 3.00000e+00]\n",
            " [5.45280e+05 0.00000e+00 1.00000e+00]\n",
            " [5.48352e+05 0.00000e+00 2.00000e+00]\n",
            " [5.51424e+05 0.00000e+00 3.00000e+00]\n",
            " [5.54496e+05 0.00000e+00 1.00000e+00]\n",
            " [5.57568e+05 0.00000e+00 2.00000e+00]\n",
            " [5.60640e+05 0.00000e+00 3.00000e+00]\n",
            " [5.63712e+05 0.00000e+00 1.00000e+00]\n",
            " [5.66784e+05 0.00000e+00 2.00000e+00]\n",
            " [5.69856e+05 0.00000e+00 3.00000e+00]\n",
            " [5.72928e+05 0.00000e+00 1.00000e+00]\n",
            " [5.76000e+05 0.00000e+00 2.00000e+00]\n",
            " [5.79072e+05 0.00000e+00 3.00000e+00]\n",
            " [5.82144e+05 0.00000e+00 1.00000e+00]\n",
            " [5.85216e+05 0.00000e+00 2.00000e+00]\n",
            " [5.88288e+05 0.00000e+00 3.00000e+00]\n",
            " [5.91360e+05 0.00000e+00 1.00000e+00]\n",
            " [5.94432e+05 0.00000e+00 2.00000e+00]\n",
            " [5.97504e+05 0.00000e+00 3.00000e+00]\n",
            " [6.00576e+05 0.00000e+00 1.00000e+00]\n",
            " [6.03648e+05 0.00000e+00 2.00000e+00]\n",
            " [6.06720e+05 0.00000e+00 3.00000e+00]\n",
            " [6.09792e+05 0.00000e+00 1.00000e+00]\n",
            " [6.12864e+05 0.00000e+00 2.00000e+00]\n",
            " [6.15936e+05 0.00000e+00 3.00000e+00]\n",
            " [6.19008e+05 0.00000e+00 1.00000e+00]\n",
            " [6.22080e+05 0.00000e+00 2.00000e+00]\n",
            " [6.25152e+05 0.00000e+00 3.00000e+00]\n",
            " [6.28224e+05 0.00000e+00 1.00000e+00]\n",
            " [6.31296e+05 0.00000e+00 2.00000e+00]\n",
            " [6.34368e+05 0.00000e+00 3.00000e+00]\n",
            " [6.37440e+05 0.00000e+00 1.00000e+00]\n",
            " [6.40512e+05 0.00000e+00 2.00000e+00]\n",
            " [6.43584e+05 0.00000e+00 3.00000e+00]\n",
            " [6.46656e+05 0.00000e+00 1.00000e+00]\n",
            " [6.49728e+05 0.00000e+00 2.00000e+00]\n",
            " [6.52800e+05 0.00000e+00 3.00000e+00]\n",
            " [6.55872e+05 0.00000e+00 1.00000e+00]\n",
            " [6.58944e+05 0.00000e+00 2.00000e+00]\n",
            " [6.62016e+05 0.00000e+00 3.00000e+00]\n",
            " [6.65088e+05 0.00000e+00 1.00000e+00]\n",
            " [6.68160e+05 0.00000e+00 2.00000e+00]\n",
            " [6.71232e+05 0.00000e+00 3.00000e+00]\n",
            " [6.74304e+05 0.00000e+00 1.00000e+00]\n",
            " [6.77376e+05 0.00000e+00 2.00000e+00]\n",
            " [6.80448e+05 0.00000e+00 3.00000e+00]\n",
            " [6.83520e+05 0.00000e+00 1.00000e+00]\n",
            " [6.86592e+05 0.00000e+00 2.00000e+00]\n",
            " [6.89664e+05 0.00000e+00 3.00000e+00]\n",
            " [6.92736e+05 0.00000e+00 1.00000e+00]\n",
            " [6.95808e+05 0.00000e+00 2.00000e+00]\n",
            " [6.98880e+05 0.00000e+00 3.00000e+00]\n",
            " [7.01952e+05 0.00000e+00 1.00000e+00]\n",
            " [7.05024e+05 0.00000e+00 2.00000e+00]\n",
            " [7.08096e+05 0.00000e+00 3.00000e+00]\n",
            " [7.11168e+05 0.00000e+00 1.00000e+00]\n",
            " [7.14240e+05 0.00000e+00 2.00000e+00]\n",
            " [7.17312e+05 0.00000e+00 3.00000e+00]\n",
            " [7.20384e+05 0.00000e+00 1.00000e+00]\n",
            " [7.23456e+05 0.00000e+00 2.00000e+00]\n",
            " [7.26528e+05 0.00000e+00 3.00000e+00]\n",
            " [7.29600e+05 0.00000e+00 1.00000e+00]\n",
            " [7.32672e+05 0.00000e+00 2.00000e+00]\n",
            " [7.35744e+05 0.00000e+00 3.00000e+00]\n",
            " [7.38816e+05 0.00000e+00 1.00000e+00]\n",
            " [7.41888e+05 0.00000e+00 2.00000e+00]\n",
            " [7.44960e+05 0.00000e+00 3.00000e+00]\n",
            " [7.48032e+05 0.00000e+00 1.00000e+00]\n",
            " [7.51104e+05 0.00000e+00 2.00000e+00]\n",
            " [7.54176e+05 0.00000e+00 3.00000e+00]\n",
            " [7.57248e+05 0.00000e+00 1.00000e+00]\n",
            " [7.60320e+05 0.00000e+00 2.00000e+00]\n",
            " [7.63392e+05 0.00000e+00 3.00000e+00]\n",
            " [7.66464e+05 0.00000e+00 1.00000e+00]\n",
            " [7.69536e+05 0.00000e+00 2.00000e+00]\n",
            " [7.72608e+05 0.00000e+00 3.00000e+00]\n",
            " [7.75680e+05 0.00000e+00 1.00000e+00]\n",
            " [7.78752e+05 0.00000e+00 2.00000e+00]\n",
            " [7.81824e+05 0.00000e+00 3.00000e+00]\n",
            " [7.84896e+05 0.00000e+00 1.00000e+00]\n",
            " [7.87968e+05 0.00000e+00 2.00000e+00]\n",
            " [7.91040e+05 0.00000e+00 3.00000e+00]\n",
            " [7.94112e+05 0.00000e+00 1.00000e+00]\n",
            " [7.97184e+05 0.00000e+00 2.00000e+00]\n",
            " [8.00256e+05 0.00000e+00 3.00000e+00]\n",
            " [8.03328e+05 0.00000e+00 1.00000e+00]\n",
            " [8.06400e+05 0.00000e+00 2.00000e+00]\n",
            " [8.09472e+05 0.00000e+00 3.00000e+00]\n",
            " [8.12544e+05 0.00000e+00 1.00000e+00]\n",
            " [8.15616e+05 0.00000e+00 2.00000e+00]\n",
            " [8.18688e+05 0.00000e+00 3.00000e+00]\n",
            " [8.21760e+05 0.00000e+00 1.00000e+00]\n",
            " [8.24832e+05 0.00000e+00 2.00000e+00]\n",
            " [8.27904e+05 0.00000e+00 3.00000e+00]\n",
            " [8.30976e+05 0.00000e+00 1.00000e+00]\n",
            " [8.34048e+05 0.00000e+00 2.00000e+00]\n",
            " [8.37120e+05 0.00000e+00 3.00000e+00]\n",
            " [8.40192e+05 0.00000e+00 1.00000e+00]\n",
            " [8.43264e+05 0.00000e+00 2.00000e+00]\n",
            " [8.46336e+05 0.00000e+00 3.00000e+00]\n",
            " [8.49408e+05 0.00000e+00 1.00000e+00]\n",
            " [8.52480e+05 0.00000e+00 2.00000e+00]\n",
            " [8.55552e+05 0.00000e+00 3.00000e+00]\n",
            " [8.58624e+05 0.00000e+00 1.00000e+00]\n",
            " [8.61696e+05 0.00000e+00 2.00000e+00]\n",
            " [8.64768e+05 0.00000e+00 3.00000e+00]\n",
            " [8.67840e+05 0.00000e+00 1.00000e+00]\n",
            " [8.70912e+05 0.00000e+00 2.00000e+00]\n",
            " [8.73984e+05 0.00000e+00 1.00000e+00]\n",
            " [8.77056e+05 0.00000e+00 3.00000e+00]\n",
            " [8.80128e+05 0.00000e+00 1.00000e+00]\n",
            " [8.83200e+05 0.00000e+00 2.00000e+00]\n",
            " [8.86272e+05 0.00000e+00 3.00000e+00]]\n",
            "Not setting metadata\n",
            "Not setting metadata\n",
            "289 matching events found\n",
            "No baseline correction applied\n",
            "0 projection items activated\n",
            "0 bad epochs dropped\n"
          ],
          "name": "stdout"
        }
      ]
    },
    {
      "cell_type": "code",
      "metadata": {
        "colab": {
          "base_uri": "https://localhost:8080/"
        },
        "id": "u69twudgzMtV",
        "outputId": "b1812429-c229-42d3-b142-089d66f06492"
      },
      "source": [
        "picks"
      ],
      "execution_count": null,
      "outputs": [
        {
          "output_type": "execute_result",
          "data": {
            "text/plain": [
              "array([ 0,  1,  2,  3,  4,  5,  6,  7,  8,  9, 10, 11, 12, 13, 14, 15, 16,\n",
              "       17, 18, 19, 20, 21, 22, 23, 24, 25, 26, 27, 28, 29, 30, 31, 32, 33,\n",
              "       34, 35, 36, 37, 38, 39, 40, 41, 42, 43, 44, 45, 46, 47, 48, 49, 50,\n",
              "       51, 52, 53, 54, 55, 56, 57, 58, 59, 60, 61, 62, 63, 69])"
            ]
          },
          "metadata": {
            "tags": []
          },
          "execution_count": 34
        }
      ]
    },
    {
      "cell_type": "code",
      "metadata": {
        "colab": {
          "base_uri": "https://localhost:8080/",
          "height": 136
        },
        "id": "pBJDg08oydMp",
        "outputId": "9335e0a4-d393-42f1-8d11-04b30652b17c"
      },
      "source": [
        "picks = pick_types(custom_epochs.info,eeg=True)\n",
        "    \n",
        "    #could not filter epochs with mne 0.13, upgraded to 0.15 to get this to work:\n",
        "    # Filter data for alpha frequency and beta band\n",
        "    # Note that MNE implements a zero phase (filtfilt) filer\n",
        "custom_epochs.filter(2,6, picks=picks, method='iir', n_jobs=-1, verbose=False)\n",
        "    "
      ],
      "execution_count": null,
      "outputs": [
        {
          "output_type": "execute_result",
          "data": {
            "text/html": [
              "\n",
              "<table class=\"table table-hover\">\n",
              "    <tr>\n",
              "        <th>Number of events</th>\n",
              "        <td>289</td>\n",
              "    </tr>\n",
              "    <tr>\n",
              "        <th>Events</th>\n",
              "        <td>button_alone: 95<br>button_tone: 100<br>playback_tone: 94<br></td>\n",
              "    </tr>\n",
              "    <tr>\n",
              "        <th>Time range</th>\n",
              "        <td>-1.500 – 152.050 sec</td>\n",
              "    </tr>\n",
              "    <tr>\n",
              "        <th>Baseline</th>\n",
              "        <td>off</td>\n",
              "    </tr>\n",
              "</table>\n"
            ],
            "text/plain": [
              "<EpochsArray |  289 events (all good), -1.5 - 152.05 sec, baseline off, ~474.2 MB, data loaded,\n",
              " 'button_alone': 95\n",
              " 'button_tone': 100\n",
              " 'playback_tone': 94>"
            ]
          },
          "metadata": {
            "tags": []
          },
          "execution_count": 35
        }
      ]
    },
    {
      "cell_type": "code",
      "metadata": {
        "colab": {
          "base_uri": "https://localhost:8080/"
        },
        "id": "_XCOS3ptyekP",
        "outputId": "ef4bd4ca-2a45-4411-8a24-6fe7f042fd4f"
      },
      "source": [
        "pick_types(custom_epochs.info,eeg=True)"
      ],
      "execution_count": null,
      "outputs": [
        {
          "output_type": "execute_result",
          "data": {
            "text/plain": [
              "array([ 0,  1,  2,  3,  4,  5,  6,  7,  8,  9, 10, 11, 12, 13, 14, 15, 16,\n",
              "       17, 18, 19, 20, 21, 22, 23, 24, 25, 26, 27, 28, 29, 30, 31, 32, 33,\n",
              "       34, 35, 36, 37, 38, 39, 40, 41, 42, 43, 44, 45, 46, 47, 48, 49, 50,\n",
              "       51, 52, 53, 54, 55, 56, 57, 58, 59, 60, 61, 62, 63, 69])"
            ]
          },
          "metadata": {
            "tags": []
          },
          "execution_count": 36
        }
      ]
    },
    {
      "cell_type": "markdown",
      "metadata": {
        "id": "DEU5R3jql4sb"
      },
      "source": [
        "# CNN"
      ]
    },
    {
      "cell_type": "code",
      "metadata": {
        "id": "m3RUy1VEl53w"
      },
      "source": [
        "class Net(nn.Module):\n",
        "  \"\"\"\n",
        "  A convolutional neural network class.\n",
        "  When an instance of it is constructed with a kernel, you can apply that instance\n",
        "    to a matrix and it will convolve the kernel over that image.\n",
        "  i.e. Net(kernel)(image)\n",
        "  \"\"\"\n",
        "  def __init__(self, in_dim, out_dim, kernel=None, padding=0):\n",
        "    # super(Net, self).__init__(in_dim)\n",
        "    # Summary of the nn.conv2d parameters (you can also get this by hovering\n",
        "    # over the method):\n",
        "    # in_channels (int): Number of channels in the input\n",
        "    # out_channels (int): Number of channels produced by the convolution\n",
        "    # kernel_size (int or tuple): Size of the convolving kernel\n",
        "    # padding (int or tuple, optional): Zero-padding added to both sides of\n",
        "    #     the input. Default: 0\n",
        "    self.conv1 = nn.Conv1d(in_channels=in_dim, out_channels=320, kernel_size=1, \\\n",
        "                           padding=padding)\n",
        "    self.conv2 = nn.Conv1d(in_channels=320, out_channels=640, kernel_size=1)\n",
        "    self.fc1 = nn.Linear()\n",
        "    self.pool = nn.MaxPool1d(1)\n",
        "    \n",
        "\n",
        "    # set up a default kernel if a default one isn't provided\n",
        "    if kernel is not None:\n",
        "      dim1, dim2 = kernel.shape[0], kernel.shape[1]\n",
        "      kernel = kernel.reshape(1, 1, dim1, dim2)\n",
        "\n",
        "      self.conv1.weight = torch.nn.Parameter(kernel)\n",
        "      self.conv1.bias = torch.nn.Parameter(torch.zeros_like(self.conv1.bias))\n",
        "\n",
        "  def forward(self, x):\n",
        "    x = self.conv1(x)\n",
        "    x = F.relu(x)\n",
        "    x = self.conv2(x)\n",
        "    x = F.relu(x)\n",
        "    x = self.pool(x)\n",
        "    x = torch.flatten(x,1)\n",
        "    x = self.fc1(x)\n",
        "    x = F.relu(x)\n",
        "    x = self.fc2(x)\n",
        "    return x"
      ],
      "execution_count": null,
      "outputs": []
    }
  ]
}